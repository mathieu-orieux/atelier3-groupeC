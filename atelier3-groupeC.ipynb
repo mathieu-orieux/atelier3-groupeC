{
 "cells": [
  {
   "cell_type": "markdown",
   "id": "intro",
   "metadata": {},
   "source": [
    "# Atelier 3 - Groupe C \n"
   ]
  },
  {
   "cell_type": "markdown",
   "id": "ef692b54",
   "metadata": {},
   "source": [
    "# Étape 1 - Représentation objet basée sur le modèle Chinook"
   ]
  },
  {
   "cell_type": "code",
   "execution_count": 1,
   "id": "model-and-data",
   "metadata": {},
   "outputs": [
    {
     "data": {
      "text/plain": [
       "defined class MediaType\n",
       "defined class Genre\n",
       "defined class Employee\n",
       "defined class Track\n",
       "defined class InvoiceItem\n",
       "defined class Invoice\n"
      ]
     },
     "metadata": {},
     "output_type": "display_data"
    }
   ],
   "source": [
    "import scala.util.Random\n",
    "\n",
    "case class MediaType(\n",
    "  mediaTypeId: Int,\n",
    "  name: String\n",
    ")\n",
    "\n",
    "case class Genre(\n",
    "  genreId: Int,\n",
    "  name: String\n",
    ")\n",
    "\n",
    "case class Employee(\n",
    "  employeeId: Int,\n",
    "  lastName: String,\n",
    "  firstName: String,\n",
    "  title: String,\n",
    "  reportsTo: Option[Int]\n",
    ")\n",
    "\n",
    "case class Track(\n",
    "  trackId: Int,\n",
    "  name: String,\n",
    "  albumId: Option[Int],\n",
    "  mediaTypeId: Int,\n",
    "  genreId: Int,\n",
    "  composer: Option[String],\n",
    "  milliseconds: Int,\n",
    "  bytes: Option[Int],\n",
    "  unitPrice: Double\n",
    ")\n",
    "\n",
    "case class InvoiceItem(\n",
    "  invoiceLineId: Int,\n",
    "  invoiceId: Int,\n",
    "  trackId: Int,\n",
    "  unitPrice: Double,\n",
    "  quantity: Int\n",
    ")\n",
    "\n",
    "case class Invoice(\n",
    "  invoiceId: Int,\n",
    "  customerId: Int,\n",
    "  invoiceDate: String,\n",
    "  billingAddress: Option[String],\n",
    "  billingCity: Option[String],\n",
    "  billingState: Option[String],\n",
    "  billingCountry: Option[String],\n",
    "  billingPostalCode: Option[String],\n",
    "  total: Double,\n",
    "  items: List[InvoiceItem]\n",
    ")"
   ]
  },
  {
   "cell_type": "code",
   "execution_count": 2,
   "id": "base-data",
   "metadata": {},
   "outputs": [
    {
     "data": {
      "text/plain": [
       "employees = Array(Employee(1,Adams,Andrew,General Manager,None), Employee(2,Edwards,Nancy,Sales Manager,Some(1)), Employee(3,Peacock,Jane,Sales Support Agent,Some(2)), Employee(4,Park,Margaret,Sales Support Agent,Some(2)), Employee(5,Johnson,Steve,Sales Support Agent,Some(2)), Employee(6,Mitchell,Michael,IT Manager,Some(1)), Employee(7,King,Robert,IT Staff,Some(6)), Employee(8,Callahan,Laura,IT Staff,Some(6)))\n",
       "mediaTypes = Array(MediaType(1,MPEG audio file), MediaType(2,Protected AAC audio file), MediaType(3,Protected MPEG-4 video file), MediaType(4,Purchased AAC audio file), MediaType(5,AAC audio file))\n",
       "genres = Array(Genre(1,Rock), Genre(2,Jazz), Genre(3,Metal), Genre(4,Alternative & Punk), Genre(5,Rock And Roll), Genre(6,Blues), Genre(...\n"
      ]
     },
     "metadata": {},
     "output_type": "display_data"
    },
    {
     "data": {
      "text/plain": [
       "Array(Genre(1,Rock), Genre(2,Jazz), Genre(3,Metal), Genre(4,Alternative & Punk), Genre(5,Rock And Roll), Genre(6,Blues), Genre(..."
      ]
     },
     "execution_count": 2,
     "metadata": {},
     "output_type": "execute_result"
    }
   ],
   "source": [
    "val employees = Array(\n",
    "  Employee(1, \"Adams\", \"Andrew\", \"General Manager\", None),\n",
    "  Employee(2, \"Edwards\", \"Nancy\", \"Sales Manager\", Some(1)),\n",
    "  Employee(3, \"Peacock\", \"Jane\", \"Sales Support Agent\", Some(2)),\n",
    "  Employee(4, \"Park\", \"Margaret\", \"Sales Support Agent\", Some(2)),\n",
    "  Employee(5, \"Johnson\", \"Steve\", \"Sales Support Agent\", Some(2)),\n",
    "  Employee(6, \"Mitchell\", \"Michael\", \"IT Manager\", Some(1)),\n",
    "  Employee(7, \"King\", \"Robert\", \"IT Staff\", Some(6)),\n",
    "  Employee(8, \"Callahan\", \"Laura\", \"IT Staff\", Some(6))\n",
    ")\n",
    "\n",
    "val mediaTypes = Array(\n",
    "  MediaType(1, \"MPEG audio file\"),\n",
    "  MediaType(2, \"Protected AAC audio file\"), \n",
    "  MediaType(3, \"Protected MPEG-4 video file\"),\n",
    "  MediaType(4, \"Purchased AAC audio file\"),\n",
    "  MediaType(5, \"AAC audio file\")\n",
    ")\n",
    "\n",
    "val genres = Array(\n",
    "  Genre(1, \"Rock\"),\n",
    "  Genre(2, \"Jazz\"),\n",
    "  Genre(3, \"Metal\"),\n",
    "  Genre(4, \"Alternative & Punk\"),\n",
    "  Genre(5, \"Rock And Roll\"),\n",
    "  Genre(6, \"Blues\"),\n",
    "  Genre(7, \"Latin\"),\n",
    "  Genre(8, \"Reggae\"),\n",
    "  Genre(9, \"Pop\"),\n",
    "  Genre(10, \"Soundtrack\"),\n",
    "  Genre(11, \"Bossa Nova\"),\n",
    "  Genre(12, \"Easy Listening\"),\n",
    "  Genre(13, \"Heavy Metal\"),\n",
    "  Genre(14, \"R&B/Soul\"),\n",
    "  Genre(15, \"Electronica/Dance\"),\n",
    "  Genre(16, \"World\"),\n",
    "  Genre(17, \"Hip Hop/Rap\"),\n",
    "  Genre(18, \"Science Fiction\"),\n",
    "  Genre(19, \"TV Shows\"),\n",
    "  Genre(20, \"Sci Fi & Fantasy\"),\n",
    "  Genre(21, \"Drama\"),\n",
    "  Genre(22, \"Comedy\"),\n",
    "  Genre(23, \"Alternative\"),\n",
    "  Genre(24, \"Classical\"),\n",
    "  Genre(25, \"Opera\")\n",
    ")"
   ]
  },
  {
   "cell_type": "code",
   "execution_count": 3,
   "id": "generation-objects",
   "metadata": {},
   "outputs": [
    {
     "data": {
      "text/plain": [
       "defined object Dictionaries\n",
       "defined object Track\n",
       "defined object Invoice\n"
      ]
     },
     "metadata": {},
     "output_type": "display_data"
    },
    {
     "data": {
      "text/plain": [
       "warning: previously defined class Track is not a companion to object Track.\n",
       "Companions must be defined together; you may wish to use :paste mode for this.\n",
       "warning: previously defined class Invoice is not a companion to object Invoice.\n",
       "Companions must be defined together; you may wish to use :paste mode for this.\n"
      ]
     },
     "metadata": {},
     "output_type": "display_data"
    }
   ],
   "source": [
    "object Dictionaries {\n",
    "  val adjectives = Array(\n",
    "    \"Cosmic\", \"Electric\", \"Velvet\", \"Mystic\", \"Atomic\", \"Phantom\", \"Silent\", \n",
    "    \"Savage\", \"Eternal\", \"Digital\", \"Lost\", \"Sacred\", \"Wild\", \"Urban\", \"Golden\", \n",
    "    \"Crystal\", \"Liquid\", \"Toxic\", \"Neon\", \"Crimson\", \"Stellar\", \"Raging\", \n",
    "    \"Arctic\", \"Sonic\", \"Primal\", \"Midnight\", \"Screaming\", \"Infinite\", \"Royal\", \"Lunar\"\n",
    "  )\n",
    "  \n",
    "  val nouns = Array(\n",
    "    \"Echo\", \"Giants\", \"Wolves\", \"Horizon\", \"Empire\", \"Void\", \"Thunder\", \"Dragons\", \n",
    "    \"Saints\", \"Kings\", \"Ghosts\", \"Ravens\", \"Pirates\", \"Heroes\", \"Rebels\", \"Demons\", \n",
    "    \"Machines\", \"Angels\", \"Knights\", \"Lions\", \"Shadows\", \"Zombies\", \"Wizards\", \n",
    "    \"Killers\", \"Titans\", \"Outlaws\", \"Rebels\", \"Prophets\", \"Bandits\", \"Warriors\"\n",
    "  )\n",
    "  \n",
    "  val complements = Array(\n",
    "    \"of Doom\", \"in Chains\", \"from Mars\", \"of the North\", \"of Death\", \"in Disguise\", \n",
    "    \"of the Night\", \"from Hell\", \"of Tomorrow\", \"in Flames\", \"of the Deep\", \n",
    "    \"from Beyond\", \"of Destruction\", \"in Shadow\", \"from the Sky\", \"of the Abyss\", \n",
    "    \"in Exile\", \"from the East\", \"of Eternity\", \"from the Desert\", \"of the Underground\"\n",
    "  )\n",
    "  \n",
    "  val composers = Array(\n",
    "    \"J. Smith\", \"M. Johnson\", \"R. Williams\", \"P. Davis\", \"L. Brown\",\n",
    "    \"T. Miller\", \"K. Wilson\", \"A. Moore\", \"S. Taylor\", \"D. Anderson\"\n",
    "  )\n",
    "}\n",
    "\n",
    "object Track {\n",
    "  private val random = new Random(42)\n",
    "  \n",
    "  def generate(id: Int): Track = {\n",
    "    val mediaType = mediaTypes(random.nextInt(mediaTypes.length))\n",
    "    val genre = genres(random.nextInt(genres.length))\n",
    "    \n",
    "    val adjective = Dictionaries.adjectives(random.nextInt(Dictionaries.adjectives.length))\n",
    "    val noun = Dictionaries.nouns(random.nextInt(Dictionaries.nouns.length))\n",
    "    val complement = Dictionaries.complements(random.nextInt(Dictionaries.complements.length))\n",
    "    val title = s\"$adjective $noun $complement\"\n",
    "    \n",
    "    val hasComposer = random.nextDouble() < 0.7\n",
    "    val composer = if (hasComposer) {\n",
    "      Some(Dictionaries.composers(random.nextInt(Dictionaries.composers.length)))\n",
    "    } else None\n",
    "    \n",
    "    val duration = 180000 + random.nextInt(300000)\n",
    "    val fileSize = duration * 128\n",
    "    val price = 0.99 + (random.nextInt(101) / 100.0)\n",
    "    \n",
    "    new Track(\n",
    "      trackId = id,\n",
    "      name = title,\n",
    "      albumId = Some(1 + random.nextInt(100)),\n",
    "      mediaTypeId = mediaType.mediaTypeId,\n",
    "      genreId = genre.genreId,\n",
    "      composer = composer,\n",
    "      milliseconds = duration,\n",
    "      bytes = Some(fileSize),\n",
    "      unitPrice = price\n",
    "    )\n",
    "  }\n",
    "}\n",
    "\n",
    "object Invoice {\n",
    "  private val random = new Random(42)\n",
    "  private var itemIdCounter = 1\n",
    "  \n",
    "  val countries = Array(\"USA\", \"Canada\", \"France\", \"Germany\", \"Brazil\", \"UK\", \"Japan\", \"Australia\")\n",
    "  val cities = Array(\"New York\", \"Toronto\", \"Paris\", \"Berlin\", \"São Paulo\", \"London\", \"Tokyo\", \"Sydney\")\n",
    "  \n",
    "  def generate(id: Int, availableTracks: Array[Track]): Invoice = {\n",
    "    val numberOfItems = 1 + random.nextInt(5)\n",
    "    \n",
    "    val selectedTracks = random.shuffle(availableTracks.toList).take(numberOfItems)\n",
    "    \n",
    "    val items = selectedTracks.map { track =>\n",
    "      val item = new InvoiceItem(\n",
    "        invoiceLineId = itemIdCounter,\n",
    "        invoiceId = id,\n",
    "        trackId = track.trackId,\n",
    "        unitPrice = track.unitPrice,\n",
    "        quantity = if (random.nextDouble() < 0.8) 1 else 1 + random.nextInt(3)\n",
    "      )\n",
    "      itemIdCounter += 1\n",
    "      item\n",
    "    }\n",
    "    \n",
    "    val total = items.map(item => item.unitPrice * item.quantity).sum\n",
    "    \n",
    "    val country = countries(random.nextInt(countries.length))\n",
    "    val city = cities(random.nextInt(cities.length))\n",
    "    \n",
    "    new Invoice(\n",
    "      invoiceId = id,\n",
    "      customerId = 1 + random.nextInt(50),\n",
    "      invoiceDate = s\"2024-${1 + random.nextInt(12)}-${1 + random.nextInt(28)}\",\n",
    "      billingAddress = Some(s\"${100 + random.nextInt(900)} Main Street\"),\n",
    "      billingCity = Some(city),\n",
    "      billingState = if (country == \"USA\") Some(\"CA\") else None,\n",
    "      billingCountry = Some(country),\n",
    "      billingPostalCode = Some(s\"${10000 + random.nextInt(90000)}\"),\n",
    "      total = total,\n",
    "      items = items\n",
    "    )\n",
    "  }\n",
    "}"
   ]
  },
  {
   "cell_type": "code",
   "execution_count": null,
   "id": "generate-data",
   "metadata": {},
   "outputs": [
    {
     "name": "stdout",
     "output_type": "stream",
     "text": [
      "Données générées : 200 pistes et 2000 factures\n"
     ]
    },
    {
     "data": {
      "text/plain": [
       "tracks = Vector(Track(1,Neon Rebels of Destruction,Some(94),1,14,None,476918,Some(61045504),1.74), Track(2,Silent Pirates of Tomorrow,Some(1),3,3,Some(J. Smith),248743,Some(31839104),1.21), Track(3,Mystic Killers in Flames,Some(57),4,2,Some(A. Moore),378246,Some(48415488),1.3399999999999999), Track(4,Toxic Angels of Destruction,Some(24),1,11,Some(L. Brown),442379,Some(56624512),1.32), Track(5,Primal Dragons from Mars,Some(57),3,1,Some(P. Davis),204440,Some(26168320),1.8399999999999999), Track(6,Urban Lions of the Abyss,Some(95),1,11,Some(D. Anderson),407552,Some(52166656),1.1), Track(7,Crimson Demons of Destruction,Some(34),5,24,Some(P. Davis),190429,Some(24374912),1.15), Track(8,Phantom Horizon in Flames,Some(10),2,11,Some(R. Williams),2178...\n"
      ]
     },
     "metadata": {},
     "output_type": "display_data"
    },
    {
     "data": {
      "text/plain": [
       "Vector(Track(1,Neon Rebels of Destruction,Some(94),1,14,None,476918,Some(61045504),1.74), Track(2,Silent Pirates of Tomorrow,Some(1),3,3,Some(J. Smith),248743,Some(31839104),1.21), Track(3,Mystic Killers in Flames,Some(57),4,2,Some(A. Moore),378246,Some(48415488),1.3399999999999999), Track(4,Toxic Angels of Destruction,Some(24),1,11,Some(L. Brown),442379,Some(56624512),1.32), Track(5,Primal Dragons from Mars,Some(57),3,1,Some(P. Davis),204440,Some(26168320),1.8399999999999999), Track(6,Urban Lions of the Abyss,Some(95),1,11,Some(D. Anderson),407552,Some(52166656),1.1), Track(7,Crimson Demons of Destruction,Some(34),5,24,Some(P. Davis),190429,Some(24374912),1.15), Track(8,Phantom Horizon in Flames,Some(10),2,11,Some(R. Williams),2178..."
      ]
     },
     "execution_count": 4,
     "metadata": {},
     "output_type": "execute_result"
    }
   ],
   "source": [
    "val tracks = for(index <- 1 to 200) yield Track.generate(index)\n",
    "val tracksArray = tracks.toArray\n",
    "\n",
    "val invoices = for(index <- 1 to 2000) yield Invoice.generate(index, tracksArray)\n",
    "\n",
    "println(s\"Données générées : ${tracks.length} pistes et ${invoices.length} factures\")"
   ]
  },
  {
   "cell_type": "markdown",
   "id": "step1-title",
   "metadata": {},
   "source": [
    "## Étape 1 - Filtrage\n",
    "\n",
    "Nous allons utiliser les méthodes fonctionnelles de Scala pour filtrer nos données."
   ]
  },
  {
   "cell_type": "markdown",
   "id": "step1-1",
   "metadata": {},
   "source": [
    "### 1.1 Filtrer les titres par type de média\n",
    "\n",
    "On veut récupérer tous les titres qui appartiennent à certains types de média spécifiques."
   ]
  },
  {
   "cell_type": "code",
   "execution_count": null,
   "id": "filter-media",
   "metadata": {},
   "outputs": [
    {
     "name": "stdout",
     "output_type": "stream",
     "text": [
      "Nombre de titres pour les types de média 1, 2 : 91\n",
      "\n",
      "Exemples de titres filtrés :\n",
      "- Neon Rebels of Destruction (MPEG audio file)\n",
      "- Toxic Angels of Destruction (MPEG audio file)\n",
      "- Urban Lions of the Abyss (MPEG audio file)\n",
      "- Phantom Horizon in Flames (Protected AAC audio file)\n",
      "- Cosmic Ghosts of the Abyss (Protected AAC audio file)\n"
     ]
    },
    {
     "data": {
      "text/plain": [
       "media = List(1, 2)\n",
       "titresParMedia = Vector(Track(1,Neon Rebels of Destruction,Some(94),1,14,None,476918,Some(61045504),1.74), Track(4,Toxic Angels of Destruction,Some(24),1,11,Some(L. Brown),442379,Some(56624512),1.32), Track(6,Urban Lions of the Abyss,Some(95),1,11,Some(D. Anderson),407552,Some(52166656),1.1), Track(8,Phantom Horizon in Flames,Some(10),2,11,Some(R. Williams),217807,Some(27879296),1.46), Track(10,Cosmic Ghosts of the Abyss,Some(47),2,4,None,221911,Some(28404608),1.27), Track(11,Screaming Empire of the Abyss,Some(7),1,23,Some(J. Smith),188806,Some(24167168),1.56), Track(15,Crystal Giants from Hell,Some(97),1,22,Some(R. Williams),309441,Some(39608448),1.54), Track(16,Midnight Echo of the Underground,Some(42),1,11,So...\n"
      ]
     },
     "metadata": {},
     "output_type": "display_data"
    },
    {
     "data": {
      "text/plain": [
       "Vector(Track(1,Neon Rebels of Destruction,Some(94),1,14,None,476918,Some(61045504),1.74), Track(4,Toxic Angels of Destruction,Some(24),1,11,Some(L. Brown),442379,Some(56624512),1.32), Track(6,Urban Lions of the Abyss,Some(95),1,11,Some(D. Anderson),407552,Some(52166656),1.1), Track(8,Phantom Horizon in Flames,Some(10),2,11,Some(R. Williams),217807,Some(27879296),1.46), Track(10,Cosmic Ghosts of the Abyss,Some(47),2,4,None,221911,Some(28404608),1.27), Track(11,Screaming Empire of the Abyss,Some(7),1,23,Some(J. Smith),188806,Some(24167168),1.56), Track(15,Crystal Giants from Hell,Some(97),1,22,Some(R. Williams),309441,Some(39608448),1.54), Track(16,Midnight Echo of the Underground,Some(42),1,11,So..."
      ]
     },
     "execution_count": 5,
     "metadata": {},
     "output_type": "execute_result"
    }
   ],
   "source": [
    "val media = List(1, 2) // MPEG audio file et Protected AAC audio file\n",
    "\n",
    "val titresParMedia = tracks.filter(track => media.contains(track.mediaTypeId))\n",
    "\n",
    "println(s\"Nombre de titres pour les types de média ${media.mkString(\", \")} : ${titresParMedia.length}\")\n",
    "println(\"\\nExemples de titres filtrés :\")\n",
    "titresParMedia.take(5).foreach { track =>\n",
    "  val mediaName = mediaTypes.find(_.mediaTypeId == track.mediaTypeId).map(_.name).getOrElse(\"Unknown\")\n",
    "  println(s\"- ${track.name} (${mediaName})\")\n",
    "}"
   ]
  },
  {
   "cell_type": "markdown",
   "id": "step1-2",
   "metadata": {},
   "source": [
    "### 1.2 Filtrer les commandes avec un maximum de titres du genre Rock\n",
    "\n",
    "On cherche les factures qui contiennent au maximum un certain nombre de titres du genre 1 (Rock)."
   ]
  },
  {
   "cell_type": "code",
   "execution_count": null,
   "id": "filter-invoices",
   "metadata": {},
   "outputs": [
    {
     "name": "stdout",
     "output_type": "stream",
     "text": [
      "Nombre de commandes avec maximum 2 titres Rock : 1999\n",
      "\n",
      "Exemples de commandes filtrées :\n",
      "- Invoice 1 : 0 titre(s) Rock sur 1 items\n",
      "- Invoice 2 : 0 titre(s) Rock sur 1 items\n",
      "- Invoice 3 : 0 titre(s) Rock sur 1 items\n"
     ]
    },
    {
     "data": {
      "text/plain": [
       "tracksMap = Map(69 -> Track(69,Stellar Titans in Shadow,Some(33),4,22,Some(S. Taylor),187790,Some(24037120),1.67), 138 -> Track(138,Neon Pirates in Disguise,Some(10),3,12,None,441469,Some(56508032),1.3900000000000001), 101 -> Track(101,Lost Titans of Tomorrow,Some(25),3,18,None,474515,Some(60737920),1.83), 88 -> Track(88,Royal Kings from the Sky,Some(73),5,22,Some(K. Wilson),359361,Some(45998208),1.74), 170 -> Track(170,Crimson Dragons from Beyond,Some(74),1,12,Some(M. Johnson),327640,Some(41937920),1.18), 115 -> Track(115,Crimson Empire of the Night,Some(6),5,3,Some(T. Miller),228213,Some(29211264),1.38), 5 -> Track(5,Primal Dragons from Mars,Some(57),3,1,Some(P. Davis),204440,Some(26168320),1.8399999999999999), 120 -> Track(120,Primal Echo of...\n"
      ]
     },
     "metadata": {},
     "output_type": "display_data"
    },
    {
     "data": {
      "text/plain": [
       "Map(69 -> Track(69,Stellar Titans in Shadow,Some(33),4,22,Some(S. Taylor),187790,Some(24037120),1.67), 138 -> Track(138,Neon Pirates in Disguise,Some(10),3,12,None,441469,Some(56508032),1.3900000000000001), 101 -> Track(101,Lost Titans of Tomorrow,Some(25),3,18,None,474515,Some(60737920),1.83), 88 -> Track(88,Royal Kings from the Sky,Some(73),5,22,Some(K. Wilson),359361,Some(45998208),1.74), 170 -> Track(170,Crimson Dragons from Beyond,Some(74),1,12,Some(M. Johnson),327640,Some(41937920),1.18), 115 -> Track(115,Crimson Empire of the Night,Some(6),5,3,Some(T. Miller),228213,Some(29211264),1.38), 5 -> Track(5,Primal Dragons from Mars,Some(57),3,1,Some(P. Davis),204440,Some(26168320),1.8399999999999999), 120 -> Track(120,Primal Echo of..."
      ]
     },
     "execution_count": 6,
     "metadata": {},
     "output_type": "execute_result"
    }
   ],
   "source": [
    "val tracksMap = tracks.map(t => t.trackId -> t).toMap\n",
    "\n",
    "val commandesAvecMaxRock = invoices.filter { invoice =>\n",
    "  val nombreRock = invoice.items.count { item =>\n",
    "    tracksMap.get(item.trackId).exists(_.genreId == 1)\n",
    "  }\n",
    "  nombreRock <= 2\n",
    "}\n",
    "\n",
    "println(s\"Nombre de commandes avec maximum 2 titres Rock : ${commandesAvecMaxRock.length}\")\n",
    "println(\"\\nExemples de commandes filtrées :\")\n",
    "commandesAvecMaxRock.take(3).foreach { invoice =>\n",
    "  val rockCount = invoice.items.count(item => tracksMap.get(item.trackId).exists(_.genreId == 1))\n",
    "  println(s\"- Invoice ${invoice.invoiceId} : ${rockCount} titre(s) Rock sur ${invoice.items.length} items\")\n",
    "}"
   ]
  },
  {
   "cell_type": "markdown",
   "id": "step2-title",
   "metadata": {},
   "source": [
    "## Étape 2 - Agrégations\n",
    "\n",
    "Utilisation des opérations fonctionnelles pour agréger et analyser les données."
   ]
  },
  {
   "cell_type": "markdown",
   "id": "step2-1",
   "metadata": {},
   "source": [
    "### 2.1 Top 5 des titres en nombre de ventes\n",
    "\n",
    "On va compter combien de fois chaque titre apparaît dans les factures et trouver les 5 plus vendus."
   ]
  },
  {
   "cell_type": "code",
   "execution_count": null,
   "id": "top5-tracks",
   "metadata": {},
   "outputs": [
    {
     "name": "stdout",
     "output_type": "stream",
     "text": [
      "Top 5 des titres les plus vendus :\n",
      "- Neon Rebels of Destruction : 55 ventes\n",
      "- Digital Lions in Chains : 54 ventes\n",
      "- Mystic Ghosts of the Underground : 52 ventes\n",
      "- Crystal Kings in Disguise : 51 ventes\n",
      "- Lost Rebels of the Underground : 51 ventes\n"
     ]
    },
    {
     "data": {
      "text/plain": [
       "tousLesItems = Vector(InvoiceItem(1,1,187,1.87,1), InvoiceItem(2,2,156,1.8599999999999999,1), InvoiceItem(3,3,125,1.8199999999999998,2), InvoiceItem(4,4,101,1.83,2), InvoiceItem(5,4,185,1.5899999999999999,2), InvoiceItem(6,4,127,1.7,1), InvoiceItem(7,5,65,1.09,3), InvoiceItem(8,6,126,1.46,1), InvoiceItem(9,7,177,1.79,1), InvoiceItem(10,7,164,1.09,1), InvoiceItem(11,8,102,1.21,2), InvoiceItem(12,8,117,1.78,1), InvoiceItem(13,8,158,1.83,1), InvoiceItem(14,8,107,1.32,1), InvoiceItem(15,8,17,1.63,3), InvoiceItem(16,9,91,1.63,3), InvoiceItem(17,9,67,1.6099999999999999,1), InvoiceItem(18,9,176,1.9,1), InvoiceItem(19,9,59,1.8,1), InvoiceItem(20,9,142,1.5899999999999999,1), InvoiceItem(21,10,199,1.8199999999999998,1), InvoiceItem(22,10,35,1.58...\n"
      ]
     },
     "metadata": {},
     "output_type": "display_data"
    },
    {
     "data": {
      "text/plain": [
       "Vector(InvoiceItem(1,1,187,1.87,1), InvoiceItem(2,2,156,1.8599999999999999,1), InvoiceItem(3,3,125,1.8199999999999998,2), InvoiceItem(4,4,101,1.83,2), InvoiceItem(5,4,185,1.5899999999999999,2), InvoiceItem(6,4,127,1.7,1), InvoiceItem(7,5,65,1.09,3), InvoiceItem(8,6,126,1.46,1), InvoiceItem(9,7,177,1.79,1), InvoiceItem(10,7,164,1.09,1), InvoiceItem(11,8,102,1.21,2), InvoiceItem(12,8,117,1.78,1), InvoiceItem(13,8,158,1.83,1), InvoiceItem(14,8,107,1.32,1), InvoiceItem(15,8,17,1.63,3), InvoiceItem(16,9,91,1.63,3), InvoiceItem(17,9,67,1.6099999999999999,1), InvoiceItem(18,9,176,1.9,1), InvoiceItem(19,9,59,1.8,1), InvoiceItem(20,9,142,1.5899999999999999,1), InvoiceItem(21,10,199,1.8199999999999998,1), InvoiceItem(22,10,35,1.58..."
      ]
     },
     "execution_count": 7,
     "metadata": {},
     "output_type": "execute_result"
    }
   ],
   "source": [
    "val tousLesItems = invoices.flatMap(_.items)\n",
    "\n",
    "val ventesParTrack = tousLesItems\n",
    "  .groupBy(_.trackId)\n",
    "  .map { case (trackId, items) => \n",
    "    (trackId, items.map(_.quantity).sum)\n",
    "  }\n",
    "\n",
    "val top5Titres = ventesParTrack\n",
    "  .toSeq\n",
    "  .sortBy(-_._2)\n",
    "  .take(5)\n",
    "\n",
    "println(\"Top 5 des titres les plus vendus :\")\n",
    "top5Titres.foreach { case (trackId, ventes) =>\n",
    "  val track = tracksMap.get(trackId)\n",
    "  val titre = track.map(_.name).getOrElse(\"Unknown\")\n",
    "  println(s\"- $titre : $ventes ventes\")\n",
    "}"
   ]
  },
  {
   "cell_type": "markdown",
   "id": "step2-2",
   "metadata": {},
   "source": [
    "### 2.2 Total des commandes par genre\n",
    "\n",
    "On calcule le montant total des ventes pour chaque genre musical."
   ]
  },
  {
   "cell_type": "code",
   "execution_count": null,
   "id": "total-by-genre",
   "metadata": {},
   "outputs": [
    {
     "name": "stdout",
     "output_type": "stream",
     "text": [
      "Total des commandes par genre (top 10) :\n",
      "- Bossa Nova           : $816.26\n",
      "- Opera                : $691.70\n",
      "- Latin                : $612.30\n",
      "- Rock And Roll        : $573.99\n",
      "- Rock                 : $569.97\n",
      "- R&B/Soul             : $507.93\n",
      "- Classical            : $497.23\n",
      "- Easy Listening       : $495.01\n",
      "- Reggae               : $493.46\n",
      "- Metal                : $493.06\n"
     ]
    },
    {
     "data": {
      "text/plain": [
       "montantsParGenre = Map(5 -> 573.9899999999992, 10 -> 182.09999999999982, 24 -> 497.2300000000007, 25 -> 691.7, 14 -> 507.93000000000035, 20 -> 221.58999999999975, 1 -> 569.9700000000004, 6 -> 187.9300000000001, 21 -> 297.86000000000007, 9 -> 343.7899999999999, 13 -> 87.02000000000002, 2 -> 485.40000000000026, 17 -> 467.8000000000005, 22 -> 372.83000000000027, 12 -> 495.0099999999994, 7 -> 612.2999999999982, 3 -> 493.05999999999926, 18 -> 452.38000000000045, 16 -> 492.1399999999999, 11 -> 816.2600000000004, 23 -> 303.76000000000056, 8 -> 493.46000000000066, 19 -> 482.4800000000002, 4 -> 445.74999999999966, 15 -> 224.98000000000025)\n",
       "totalCommandesParGenre = Vector((11,816.2600000000004), (25,691.7), (7,612.2999999999982), (5,...\n"
      ]
     },
     "metadata": {},
     "output_type": "display_data"
    },
    {
     "data": {
      "text/plain": [
       "Vector((11,816.2600000000004), (25,691.7), (7,612.2999999999982), (5,..."
      ]
     },
     "execution_count": 8,
     "metadata": {},
     "output_type": "execute_result"
    }
   ],
   "source": [
    "val montantsParGenre = tousLesItems\n",
    "  .flatMap { item =>\n",
    "    tracksMap.get(item.trackId).map { track =>\n",
    "      (track.genreId, item.unitPrice * item.quantity)\n",
    "    }\n",
    "  }\n",
    "  .groupBy(_._1)\n",
    "  .map { case (genreId, items) =>\n",
    "    (genreId, items.map(_._2).sum)\n",
    "  }\n",
    "\n",
    "val totalCommandesParGenre = montantsParGenre\n",
    "  .toSeq\n",
    "  .sortBy(-_._2)\n",
    "\n",
    "println(\"Total des commandes par genre (top 10) :\")\n",
    "totalCommandesParGenre.take(10).foreach { case (genreId, total) =>\n",
    "  val genreName = genres.find(_.genreId == genreId).map(_.name).getOrElse(\"Unknown\")\n",
    "  println(f\"- $genreName%-20s : $$${total}%.2f\")\n",
    "}"
   ]
  },
  {
   "cell_type": "markdown",
   "id": "step3-title",
   "metadata": {},
   "source": [
    "## Étape 3 - Traitement récursif\n",
    "\n",
    "Utilisation de la récursivité pour naviguer dans la hiérarchie des employés."
   ]
  },
  {
   "cell_type": "markdown",
   "id": "step3-1",
   "metadata": {},
   "source": [
    "### 3.1 Trouver le plus haut responsable d'un employé\n",
    "\n",
    "Cette fonction récursive remonte la chaîne hiérarchique jusqu'au directeur général."
   ]
  },
  {
   "cell_type": "code",
   "execution_count": null,
   "id": "recursive-boss",
   "metadata": {},
   "outputs": [
    {
     "name": "stdout",
     "output_type": "stream",
     "text": [
      "Test de la fonction récursive :\n",
      "\n",
      "Pour chaque employé, voici son plus haut responsable :\n",
      "- Andrew Adams est le directeur général\n",
      "- Nancy Edwards → Andrew Adams\n",
      "- Jane Peacock → Andrew Adams\n",
      "- Margaret Park → Andrew Adams\n",
      "- Steve Johnson → Andrew Adams\n",
      "- Michael Mitchell → Andrew Adams\n",
      "- Robert King → Andrew Adams\n",
      "- Laura Callahan → Andrew Adams\n"
     ]
    },
    {
     "data": {
      "text/plain": [
       "employeesMap = Map(5 -> Employee(5,Johnson,Steve,Sales Support Agent,Some(2)), 1 -> Employee(1,Adams,Andrew,General Manager,None), 6 -> Employee(6,Mitchell,Michael,IT Manager,Some(1)), 2 -> Employee(2,Edwards,Nancy,Sales Manager,Some(1)), 7 -> Employee(7,King,Robert,IT Staff,Some(6)), 3 -> Employee(3,Peacock,Jane,Sales Support Agent,Some(2)), 8 -> Employee(8,Callahan,Laura,IT Staff,Some(6)), 4 -> Employee(4,Park,Margaret,Sales Support Agent,Some(2)))\n"
      ]
     },
     "metadata": {},
     "output_type": "display_data"
    },
    {
     "data": {
      "text/plain": [
       "trouverPlusHautResponsable: (employeeId: Int)Employee\n"
      ]
     },
     "metadata": {},
     "output_type": "display_data"
    },
    {
     "data": {
      "text/plain": [
       "Map(5 -> Employee(5,Johnson,Steve,Sales Support Agent,Some(2)), 1 -> Employee(1,Adams,Andrew,General Manager,None), 6 -> Employee(6,Mitchell,Michael,IT Manager,Some(1)), 2 -> Employee(2,Edwards,Nancy,Sales Manager,Some(1)), 7 -> Employee(7,King,Robert,IT Staff,Some(6)), 3 -> Employee(3,Peacock,Jane,Sales Support Agent,Some(2)), 8 -> Employee(8,Callahan,Laura,IT Staff,Some(6)), 4 -> Employee(4,Park,Margaret,Sales Support Agent,Some(2)))"
      ]
     },
     "execution_count": 9,
     "metadata": {},
     "output_type": "execute_result"
    }
   ],
   "source": [
    "val employeesMap = employees.map(e => e.employeeId -> e).toMap\n",
    "\n",
    "def trouverPlusHautResponsable(employeeId: Int): Employee = {\n",
    "  employeesMap.get(employeeId) match {\n",
    "    case None => throw new Exception(s\"Employé $employeeId non trouvé\")\n",
    "    case Some(employee) =>\n",
    "      employee.reportsTo match {\n",
    "        case None => employee // C'est le big boss !\n",
    "        case Some(managerId) => trouverPlusHautResponsable(managerId) // On remonte\n",
    "      }\n",
    "  }\n",
    "}\n",
    "\n",
    "println(\"Test de la fonction récursive :\")\n",
    "println(\"\\nPour chaque employé, voici son plus haut responsable :\")\n",
    "employees.foreach { emp =>\n",
    "  val boss = trouverPlusHautResponsable(emp.employeeId)\n",
    "  if (emp.employeeId == boss.employeeId) {\n",
    "    println(s\"- ${emp.firstName} ${emp.lastName} est le directeur général\")\n",
    "  } else {\n",
    "    println(s\"- ${emp.firstName} ${emp.lastName} → ${boss.firstName} ${boss.lastName}\")\n",
    "  }\n",
    "}"
   ]
  }
 ],
 "metadata": {
  "kernelspec": {
   "display_name": "Apache Toree - Scala",
   "language": "scala",
   "name": "apache_toree_scala"
  },
  "language_info": {
   "codemirror_mode": "text/x-scala",
   "file_extension": ".scala",
   "mimetype": "text/x-scala",
   "name": "scala",
   "pygments_lexer": "scala",
   "version": "2.12.15"
  }
 },
 "nbformat": 4,
 "nbformat_minor": 5
}
