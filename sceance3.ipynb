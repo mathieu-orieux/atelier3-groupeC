{
  "cells": [
    {
      "cell_type": "markdown",
      "metadata": {},
      "source": [
        "# Séance 3 : Agrégations et Visualisations\n",
        "\n",
        "## Agrégations pour Dr. Sarah Chen - Analyste ONU"
      ]
    },
    {
      "cell_type": "markdown",
      "metadata": {},
      "source": [
        "### 1. PIB total par continent et année\n",
        "**Utilité pour Sarah**: Identifier les régions nécessitant le plus d'aide au développement"
      ]
    },
    {
      "cell_type": "code",
      "execution_count": null,
      "metadata": {},
      "outputs": [],
      "source": [
        "// Agrégation 1: PIB total par continent et année\n",
        "val gdpByContinent = spark.sql(\"\"\"\n",
        "  SELECT \n",
        "    c.continent,\n",
        "    t.year,\n",
        "    SUM(f.population * f.gdp_per_capita) as total_gdp,\n",
        "    ROUND(AVG(f.gdp_per_capita), 2) as avg_gdp_per_capita,\n",
        "    SUM(f.population) as total_population\n",
        "  FROM fact_gapminder f\n",
        "  JOIN dim_country c ON f.country_id = c.country_id\n",
        "  JOIN dim_time t ON f.year_id = t.year_id\n",
        "  GROUP BY c.continent, t.year\n",
        "  ORDER BY t.year, c.continent\n",
        "\"\"\")\n",
        "\n",
        "gdpByContinent.show(20)"
      ]
    },
    {
      "cell_type": "markdown",
      "metadata": {},
      "source": [
        "### 2. Corrélation PIB/Espérance de vie par continent\n",
        "**Utilité pour Sarah**: Comprendre où l'investissement économique a le plus d'impact sur la santé"
      ]
    },
    {
      "cell_type": "code",
      "execution_count": null,
      "metadata": {},
      "outputs": [],
      "source": [
        "// Agrégation 2: Corrélation PIB/Espérance de vie\n",
        "val correlationByContinent = spark.sql(\"\"\"\n",
        "  SELECT \n",
        "    c.continent,\n",
        "    ROUND(CORR(f.gdp_per_capita, f.life_expectancy), 3) as correlation,\n",
        "    COUNT(DISTINCT c.country) as nb_countries,\n",
        "    ROUND(AVG(f.life_expectancy), 2) as avg_life_exp\n",
        "  FROM fact_gapminder f\n",
        "  JOIN dim_country c ON f.country_id = c.country_id\n",
        "  GROUP BY c.continent\n",
        "  ORDER BY correlation DESC\n",
        "\"\"\")\n",
        "\n",
        "correlationByContinent.show()"
      ]
    },
    {
      "cell_type": "markdown",
      "metadata": {},
      "source": [
        "### 3. Top pays par amélioration d'espérance de vie par décennie"
      ]
    },
    {
      "cell_type": "code",
      "execution_count": null,
      "metadata": {},
      "outputs": [],
      "source": [
        "// Agrégation 3: Amélioration par décennie\n",
        "val improvementByDecade = spark.sql(\"\"\"\n",
        "  WITH decade_changes AS (\n",
        "    SELECT \n",
        "      c.country,\n",
        "      c.continent,\n",
        "      t.decade,\n",
        "      MIN(f.life_expectancy) as min_life_exp,\n",
        "      MAX(f.life_expectancy) as max_life_exp\n",
        "    FROM fact_gapminder f\n",
        "    JOIN dim_country c ON f.country_id = c.country_id\n",
        "    JOIN dim_time t ON f.year_id = t.year_id\n",
        "    GROUP BY c.country, c.continent, t.decade\n",
        "  )\n",
        "  SELECT \n",
        "    decade,\n",
        "    country,\n",
        "    continent,\n",
        "    ROUND(max_life_exp - min_life_exp, 2) as improvement\n",
        "  FROM decade_changes\n",
        "  WHERE (decade, max_life_exp - min_life_exp) IN (\n",
        "    SELECT decade, MAX(max_life_exp - min_life_exp)\n",
        "    FROM decade_changes\n",
        "    GROUP BY decade\n",
        "  )\n",
        "  ORDER BY decade\n",
        "\"\"\")\n",
        "\n",
        "improvementByDecade.show()"
      ]
    },
    {
      "cell_type": "markdown",
      "metadata": {},
      "source": [
        "### 4. Distribution de la population mondiale par continent"
      ]
    },
    {
      "cell_type": "code",
      "execution_count": null,
      "metadata": {},
      "outputs": [],
      "source": [
        "// Agrégation 4: Distribution population\n",
        "val populationDistribution = spark.sql(\"\"\"\n",
        "  SELECT \n",
        "    t.year,\n",
        "    c.continent,\n",
        "    SUM(f.population) as total_pop,\n",
        "    ROUND(100.0 * SUM(f.population) / SUM(SUM(f.population)) OVER (PARTITION BY t.year), 2) as percentage\n",
        "  FROM fact_gapminder f\n",
        "  JOIN dim_country c ON f.country_id = c.country_id\n",
        "  JOIN dim_time t ON f.year_id = t.year_id\n",
        "  GROUP BY t.year, c.continent\n",
        "  ORDER BY t.year, percentage DESC\n",
        "\"\"\")\n",
        "\n",
        "populationDistribution.filter($\"year\" === 2007).show()"
      ]
    },
    {
      "cell_type": "markdown",
      "metadata": {},
      "source": [
        "### 5. Mesure des inégalités économiques\n",
        "**Utilité pour Sarah**: Identifier où les inégalités sont les plus fortes"
      ]
    },
    {
      "cell_type": "code",
      "execution_count": null,
      "metadata": {},
      "outputs": [],
      "source": [
        "// Agrégation 5: Inégalités économiques\n",
        "val inequalityMetrics = spark.sql(\"\"\"\n",
        "  SELECT \n",
        "    t.year,\n",
        "    c.continent,\n",
        "    ROUND(STDDEV(f.gdp_per_capita), 2) as gdp_std_dev,\n",
        "    ROUND(MAX(f.gdp_per_capita) / MIN(f.gdp_per_capita), 2) as gdp_ratio_max_min,\n",
        "    ROUND(STDDEV(f.life_expectancy), 2) as life_exp_std_dev\n",
        "  FROM fact_gapminder f\n",
        "  JOIN dim_country c ON f.country_id = c.country_id\n",
        "  JOIN dim_time t ON f.year_id = t.year_id\n",
        "  GROUP BY t.year, c.continent\n",
        "  ORDER BY t.year, c.continent\n",
        "\"\"\")\n",
        "\n",
        "inequalityMetrics.filter($\"year\" === 2007).show()"
      ]
    },
    {
      "cell_type": "markdown",
      "metadata": {},
      "source": [
        "### 6. Analyse de la pauvreté\n",
        "**Utilité pour Sarah**: Priorités d'intervention"
      ]
    },
    {
      "cell_type": "code",
      "execution_count": null,
      "metadata": {},
      "outputs": [],
      "source": [
        "// Agrégation 6: Pays sous le seuil de pauvreté\n",
        "val povertyAnalysis = spark.sql(\"\"\"\n",
        "  SELECT \n",
        "    t.year,\n",
        "    c.continent,\n",
        "    COUNT(DISTINCT CASE WHEN f.gdp_per_capita < 730 THEN c.country END) as countries_below_threshold,\n",
        "    COUNT(DISTINCT c.country) as total_countries,\n",
        "    ROUND(100.0 * COUNT(DISTINCT CASE WHEN f.gdp_per_capita < 730 THEN c.country END) / COUNT(DISTINCT c.country), 2) as poverty_rate\n",
        "  FROM fact_gapminder f\n",
        "  JOIN dim_country c ON f.country_id = c.country_id\n",
        "  JOIN dim_time t ON f.year_id = t.year_id\n",
        "  GROUP BY t.year, c.continent\n",
        "  ORDER BY t.year, c.continent\n",
        "\"\"\")\n",
        "\n",
        "povertyAnalysis.show(20)"
      ]
    },
    {
      "cell_type": "markdown",
      "metadata": {},
      "source": [
        "### 7. Efficacité santé/richesse par pays"
      ]
    },
    {
      "cell_type": "code",
      "execution_count": null,
      "metadata": {},
      "outputs": [],
      "source": [
        "// Agrégation 7: Ratio efficacité\n",
        "val efficiencyRatio = spark.sql(\"\"\"\n",
        "  SELECT \n",
        "    c.country,\n",
        "    c.continent,\n",
        "    ROUND(AVG(f.life_expectancy), 2) as avg_life_exp,\n",
        "    ROUND(AVG(f.gdp_per_capita), 2) as avg_gdp,\n",
        "    ROUND(AVG(f.life_expectancy) / (AVG(f.gdp_per_capita) / 1000), 2) as efficiency_ratio\n",
        "  FROM fact_gapminder f\n",
        "  JOIN dim_country c ON f.country_id = c.country_id\n",
        "  WHERE f.gdp_per_capita > 0\n",
        "  GROUP BY c.country, c.continent\n",
        "  ORDER BY efficiency_ratio DESC\n",
        "  LIMIT 10\n",
        "\"\"\")\n",
        "\n",
        "efficiencyRatio.show()"
      ]
    },
    {
      "cell_type": "markdown",
      "metadata": {},
      "source": [
        "### 8. Évolution des 5 pays les plus peuplés"
      ]
    },
    {
      "cell_type": "code",
      "execution_count": null,
      "metadata": {},
      "outputs": [],
      "source": [
        "// Agrégation 8: Top 5 pays peuplés\n",
        "val topPopulatedCountries = spark.sql(\"\"\"\n",
        "  WITH top_countries AS (\n",
        "    SELECT c.country\n",
        "    FROM fact_gapminder f\n",
        "    JOIN dim_country c ON f.country_id = c.country_id\n",
        "    JOIN dim_time t ON f.year_id = t.year_id\n",
        "    WHERE t.year = 2007\n",
        "    ORDER BY f.population DESC\n",
        "    LIMIT 5\n",
        "  )\n",
        "  SELECT \n",
        "    c.country,\n",
        "    t.year,\n",
        "    f.population,\n",
        "    ROUND(f.life_expectancy, 2) as life_expectancy\n",
        "  FROM fact_gapminder f\n",
        "  JOIN dim_country c ON f.country_id = c.country_id\n",
        "  JOIN dim_time t ON f.year_id = t.year_id\n",
        "  WHERE c.country IN (SELECT country FROM top_countries)\n",
        "  ORDER BY c.country, t.year\n",
        "\"\"\")\n",
        "\n",
        "topPopulatedCountries.show(30)"
      ]
    },
    {
      "cell_type": "markdown",
      "metadata": {},
      "source": [
        "## Export des données pour visualisation"
      ]
    },
    {
      "cell_type": "code",
      "execution_count": null,
      "metadata": {},
      "outputs": [],
      "source": [
        "// Export des 3 agrégations principales pour visualisation\n",
        "// 1. Corrélation PIB/Espérance de vie\n",
        "correlationByContinent\n",
        "  .coalesce(1)\n",
        "  .write\n",
        "  .mode(\"overwrite\")\n",
        "  .option(\"header\", \"true\")\n",
        "  .csv(\"output/correlation_by_continent\")\n",
        "\n",
        "println(\"Export 1/3 terminé: correlation_by_continent\")"
      ]
    },
    {
      "cell_type": "code",
      "execution_count": null,
      "metadata": {},
      "outputs": [],
      "source": [
        "// 2. Évolution du PIB par continent\n",
        "gdpByContinent\n",
        "  .coalesce(1)\n",
        "  .write\n",
        "  .mode(\"overwrite\")\n",
        "  .option(\"header\", \"true\")\n",
        "  .csv(\"output/gdp_by_continent\")\n",
        "\n",
        "println(\"Export 2/3 terminé: gdp_by_continent\")"
      ]
    },
    {
      "cell_type": "code",
      "execution_count": null,
      "metadata": {},
      "outputs": [],
      "source": [
        "// 3. Analyse de la pauvreté\n",
        "povertyAnalysis\n",
        "  .coalesce(1)\n",
        "  .write\n",
        "  .mode(\"overwrite\")\n",
        "  .option(\"header\", \"true\")\n",
        "  .csv(\"output/poverty_analysis\")\n",
        "\n",
        "println(\"Export 3/3 terminé: poverty_analysis\")\n",
        "println(\"\\nTous les exports sont terminés!\")"
      ]
    },
    {
      "cell_type": "markdown",
      "metadata": {},
      "source": [
        "## Visualisations suggérées\n",
        "\n",
        "### Pour Databricks (éditeur intégré):\n",
        "1. **Line Chart**: Évolution du PIB par continent (x: année, y: PIB total, série: continent)\n",
        "2. **Bar Chart**: Corrélation PIB/Espérance de vie par continent\n",
        "3. **Stacked Area Chart**: Distribution de la population mondiale\n",
        "4. **Heatmap**: Taux de pauvreté par continent et année\n",
        "\n",
        "### Pour Codespaces (export CSV + outils externes):\n",
        "1. **Scatter Plot**: PIB per capita vs Espérance de vie (avec couleur par continent)\n",
        "2. **Time Series**: Évolution des inégalités par continent\n",
        "3. **Donut Chart**: Répartition de la population mondiale en 2007"
      ]
    },
    {
      "cell_type": "markdown",
      "metadata": {},
      "source": [
        "## Résumé des insights pour Dr. Sarah Chen\n",
        "\n",
        "1. **Corrélation richesse-santé**: Plus forte en Europe (0.81) qu'en Afrique (0.66)\n",
        "2. **Progrès remarquables**: Certains pays ont gagné plus de 20 ans d'espérance de vie\n",
        "3. **Priorités d'intervention**: L'Afrique reste le continent avec le plus de pays sous le seuil de pauvreté\n",
        "4. **Efficacité**: Certains pays atteignent une espérance de vie élevée avec peu de ressources"
      ]
    }
  ],
  "metadata": {
    "kernelspec": {
      "display_name": "Scala",
      "language": "scala",
      "name": "scala"
    },
    "language_info": {
      "codemirror_mode": "text/x-scala",
      "file_extension": ".scala",
      "mimetype": "text/x-scala",
      "name": "scala",
      "nbconvert_exporter": "script",
      "version": "2.12.10"
    }
  },
  "nbformat": 4,
  "nbformat_minor": 4
}