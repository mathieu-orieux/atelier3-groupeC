{
 "cells": [
  {
   "cell_type": "markdown",
   "id": "intro",
   "metadata": {},
   "source": [
    "# Mini-Projet Spark : Analyse Gapminder\n",
    "## Séances 1 et 2"
   ]
  },
  {
   "cell_type": "markdown",
   "id": "seance1-title",
   "metadata": {},
   "source": [
    "# Séance 1 - Chargement et Pré-traitement"
   ]
  },
  {
   "cell_type": "markdown",
   "id": "step1-desc",
   "metadata": {},
   "source": [
    "## Étape 1 - Définition de la structure de données\n",
    "\n",
    "Dataset Gapminder : Données socio-économiques mondiales (1952-2007)"
   ]
  },
  {
   "cell_type": "code",
   "execution_count": 1,
   "id": "case-class",
   "metadata": {},
   "outputs": [],
   "source": [
    "// Case class pour représenter une observation Gapminder\n",
    "case class GapminderRecord(\n",
    "  country: String,\n",
    "  continent: String,\n",
    "  year: Int,\n",
    "  lifeExp: Double,\n",
    "  pop: Long,\n",
    "  gdpPercap: Double\n",
    ")"
   ]
  },
  {
   "cell_type": "markdown",
   "id": "step2-desc",
   "metadata": {},
   "source": [
    "## Étape 2 - Chargement des données avec SparkContext"
   ]
  },
  {
   "cell_type": "code",
   "execution_count": 2,
   "id": "spark-init",
   "metadata": {},
   "outputs": [],
   "source": [
    "import org.apache.spark.sql.SparkSession\n",
    "import org.apache.spark.{SparkConf, SparkContext}\n",
    "\n",
    "// Initialisation Spark (si pas déjà fait)\n",
    "val spark = SparkSession.builder()\n",
    "  .appName(\"Gapminder Analysis\")\n",
    "  .enableHiveSupport()\n",
    "  .getOrCreate()\n",
    "\n",
    "val sc = spark.sparkContext"
   ]
  },
  {
   "cell_type": "code",
   "execution_count": 3,
   "id": "load-data",
   "metadata": {},
   "outputs": [],
   "source": [
    "// Chargement du fichier CSV\n",
    "val rawData = sc.textFile(\"https://raw.githubusercontent.com/vincentarelbundock/Rdatasets/master/csv/gapminder/gapminder.csv\")\n",
    "\n",
    "// Parsing des données (en ignorant l'en-tête)\n",
    "val header = rawData.first()\n",
    "val gapminderRDD = rawData\n",
    "  .filter(row => row != header)  // Ignorer l'en-tête\n",
    "  .map(line => {\n",
    "    val fields = line.split(\",\")\n",
    "    // Le CSV a une colonne index en position 0, on l'ignore\n",
    "    GapminderRecord(\n",
    "      country = fields(1).trim.replaceAll(\"\\\"\", \"\"),\n",
    "      continent = fields(2).trim.replaceAll(\"\\\"\", \"\"),\n",
    "      year = fields(3).toInt,\n",
    "      lifeExp = fields(4).toDouble,\n",
    "      pop = fields(5).toLong,\n",
    "      gdpPercap = fields(6).toDouble\n",
    "    )\n",
    "  })\n",
    "\n",
    "// Vérification du chargement\n",
    "println(s\"Nombre d'enregistrements chargés: ${gapminderRDD.count()}\")\n",
    "gapminderRDD.take(5).foreach(println)"
   ]
  },
  {
   "cell_type": "markdown",
   "id": "persona-desc",
   "metadata": {},
   "source": [
    "## Persona utilisateur\n",
    "\n",
    "**Dr. Sarah Chen**  \n",
    "**Analyste en Développement International - ONU**\n",
    "\n",
    "Objectifs :\n",
    "- Identifier les pays avec les progressions les plus rapides en espérance de vie\n",
    "- Analyser la corrélation entre PIB/habitant et espérance de vie par continent\n",
    "- Détecter les inégalités de développement entre régions\n",
    "- Préparer des rapports pour orienter l'aide au développement"
   ]
  },
  {
   "cell_type": "markdown",
   "id": "seance2-title",
   "metadata": {},
   "source": [
    "# Séance 2 - DataFrame, Dimensions et SQL"
   ]
  },
  {
   "cell_type": "markdown",
   "id": "df-conversion",
   "metadata": {},
   "source": [
    "## Étape 1 - Conversion RDD vers DataFrame"
   ]
  },
  {
   "cell_type": "code",
   "execution_count": 4,
   "id": "create-df",
   "metadata": {},
   "outputs": [],
   "source": [
    "import spark.implicits._\n",
    "import org.apache.spark.sql.functions._\n",
    "\n",
    "// Conversion RDD vers DataFrame\n",
    "val gapminderDF = gapminderRDD.toDF()\n",
    "\n",
    "// Exploration du schéma et des données\n",
    "gapminderDF.show(10, truncate = false)\n",
    "gapminderDF.printSchema()"
   ]
  },
  {
   "cell_type": "code",
   "execution_count": 5,
   "id": "df-stats",
   "metadata": {},
   "outputs": [],
   "source": [
    "// Statistiques descriptives\n",
    "gapminderDF.describe(\"lifeExp\", \"pop\", \"gdpPercap\").show()\n",
    "\n",
    "// Nombre total d'enregistrements\n",
    "println(s\"Nombre total d'observations: ${gapminderDF.count()}\")\n",
    "\n",
    "// Vérification des valeurs uniques\n",
    "println(s\"Nombre de pays: ${gapminderDF.select(\"country\").distinct().count()}\")\n",
    "println(s\"Nombre d'années: ${gapminderDF.select(\"year\").distinct().count()}\")\n",
    "println(s\"Continents: \")\n",
    "gapminderDF.select(\"continent\").distinct().show()"
   ]
  },
  {
   "cell_type": "markdown",
   "id": "dimensions-title",
   "metadata": {},
   "source": [
    "## Étape 2 - Extraction des dimensions"
   ]
  },
  {
   "cell_type": "code",
   "execution_count": 6,
   "id": "dim-country",
   "metadata": {},
   "outputs": [],
   "source": [
    "// Dimension Pays avec ID\n",
    "val countryDim = gapminderDF\n",
    "  .select(\"country\", \"continent\")\n",
    "  .distinct()\n",
    "  .withColumn(\"country_id\", monotonically_increasing_id())\n",
    "  .select(\"country_id\", \"country\", \"continent\")\n",
    "\n",
    "countryDim.show(10)\n",
    "println(s\"Nombre de pays dans la dimension: ${countryDim.count()}\")"
   ]
  },
  {
   "cell_type": "code",
   "execution_count": 7,
   "id": "dim-time",
   "metadata": {},
   "outputs": [],
   "source": [
    "// Dimension Temps\n",
    "val timeDim = gapminderDF\n",
    "  .select(\"year\")\n",
    "  .distinct()\n",
    "  .withColumn(\"year_id\", monotonically_increasing_id())\n",
    "  .withColumn(\"decade\", floor($\"year\" / 10) * 10)\n",
    "  .select(\"year_id\", \"year\", \"decade\")\n",
    "\n",
    "timeDim.show()\n",
    "println(s\"Nombre d'années dans la dimension: ${timeDim.count()}\")"
   ]
  },
  {
   "cell_type": "code",
   "execution_count": 8,
   "id": "fact-table",
   "metadata": {},
   "outputs": [],
   "source": [
    "// Table de faits avec jointures\n",
    "val factsWithCountryId = gapminderDF\n",
    "  .join(countryDim, Seq(\"country\", \"continent\"), \"inner\")\n",
    "  .join(timeDim, Seq(\"year\"), \"inner\")\n",
    "\n",
    "// Nettoyage - garder seulement les colonnes nécessaires\n",
    "val factsTable = factsWithCountryId\n",
    "  .select(\"country_id\", \"year_id\", \"lifeExp\", \"pop\", \"gdpPercap\")\n",
    "  .withColumnRenamed(\"lifeExp\", \"life_expectancy\")\n",
    "  .withColumnRenamed(\"pop\", \"population\")\n",
    "  .withColumnRenamed(\"gdpPercap\", \"gdp_per_capita\")\n",
    "\n",
    "factsTable.show(10)\n",
    "println(s\"Nombre d'enregistrements dans la table de faits: ${factsTable.count()}\")"
   ]
  },
  {
   "cell_type": "markdown",
   "id": "hive-title",
   "metadata": {},
   "source": [
    "## Étape 3 - Création des tables Hive"
   ]
  },
  {
   "cell_type": "code",
   "execution_count": 9,
   "id": "create-hive-tables",
   "metadata": {},
   "outputs": [],
   "source": [
    "// Sauvegarde des dimensions et faits en tables Hive\n",
    "countryDim.write.mode(\"overwrite\").saveAsTable(\"dim_country\")\n",
    "timeDim.write.mode(\"overwrite\").saveAsTable(\"dim_time\")\n",
    "factsTable.write.mode(\"overwrite\").saveAsTable(\"fact_gapminder\")\n",
    "\n",
    "// Vérification des tables créées\n",
    "spark.sql(\"SHOW TABLES\").show()"
   ]
  },
  {
   "cell_type": "markdown",
   "id": "sql-title",
   "metadata": {},
   "source": [
    "## Étape 4 - Requêtes SQL"
   ]
  },
  {
   "cell_type": "code",
   "execution_count": 10,
   "id": "sql-query1",
   "metadata": {},
   "outputs": [],
   "source": [
    "// Requête 1: Top 10 pays par espérance de vie en 2007\n",
    "val query1 = spark.sql(\"\"\"\n",
    "  SELECT \n",
    "    c.country,\n",
    "    c.continent,\n",
    "    f.life_expectancy,\n",
    "    f.gdp_per_capita\n",
    "  FROM fact_gapminder f\n",
    "  JOIN dim_country c ON f.country_id = c.country_id\n",
    "  JOIN dim_time t ON f.year_id = t.year_id\n",
    "  WHERE t.year = 2007\n",
    "  ORDER BY f.life_expectancy DESC\n",
    "  LIMIT 10\n",
    "\"\"\")\n",
    "\n",
    "println(\"Top 10 pays par espérance de vie en 2007:\")\n",
    "query1.show()"
   ]
  },
  {
   "cell_type": "code",
   "execution_count": 11,
   "id": "sql-query2",
   "metadata": {},
   "outputs": [],
   "source": [
    "// Requête 2: Évolution de l'espérance de vie moyenne par continent\n",
    "val query2 = spark.sql(\"\"\"\n",
    "  SELECT \n",
    "    c.continent,\n",
    "    t.decade,\n",
    "    ROUND(AVG(f.life_expectancy), 2) as avg_life_exp,\n",
    "    ROUND(AVG(f.gdp_per_capita), 2) as avg_gdp_per_cap\n",
    "  FROM fact_gapminder f\n",
    "  JOIN dim_country c ON f.country_id = c.country_id\n",
    "  JOIN dim_time t ON f.year_id = t.year_id\n",
    "  GROUP BY c.continent, t.decade\n",
    "  ORDER BY c.continent, t.decade\n",
    "\"\"\")\n",
    "\n",
    "println(\"Évolution de l'espérance de vie moyenne par continent et décennie:\")\n",
    "query2.show(50)"
   ]
  },
  {
   "cell_type": "code",
   "execution_count": 12,
   "id": "sql-query3",
   "metadata": {},
   "outputs": [],
   "source": [
    "// Requête 3: Pays avec la plus forte croissance d'espérance de vie\n",
    "val query3 = spark.sql(\"\"\"\n",
    "  WITH life_exp_changes AS (\n",
    "    SELECT \n",
    "      c.country,\n",
    "      c.continent,\n",
    "      MAX(CASE WHEN t.year = 2007 THEN f.life_expectancy END) as life_exp_2007,\n",
    "      MAX(CASE WHEN t.year = 1952 THEN f.life_expectancy END) as life_exp_1952\n",
    "    FROM fact_gapminder f\n",
    "    JOIN dim_country c ON f.country_id = c.country_id\n",
    "    JOIN dim_time t ON f.year_id = t.year_id\n",
    "    WHERE t.year IN (1952, 2007)\n",
    "    GROUP BY c.country, c.continent\n",
    "  )\n",
    "  SELECT \n",
    "    country,\n",
    "    continent,\n",
    "    ROUND(life_exp_1952, 2) as life_exp_1952,\n",
    "    ROUND(life_exp_2007, 2) as life_exp_2007,\n",
    "    ROUND(life_exp_2007 - life_exp_1952, 2) as improvement\n",
    "  FROM life_exp_changes\n",
    "  WHERE life_exp_1952 IS NOT NULL AND life_exp_2007 IS NOT NULL\n",
    "  ORDER BY improvement DESC\n",
    "  LIMIT 15\n",
    "\"\"\")\n",
    "\n",
    "println(\"Pays avec la plus forte croissance d'espérance de vie (1952-2007):\")\n",
    "query3.show()"
   ]
  }
 ],
 "metadata": {
  "kernelspec": {
   "display_name": "Apache Toree - Scala",
   "language": "scala",
   "name": "apache_toree_scala"
  },
  "language_info": {
   "codemirror_mode": "text/x-scala",
   "file_extension": ".scala",
   "mimetype": "text/x-scala",
   "name": "scala",
   "pygments_lexer": "scala",
   "version": "2.12.15"
  }
 },
 "nbformat": 4,
 "nbformat_minor": 5
}