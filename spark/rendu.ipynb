{
 "cells": [
  {
   "cell_type": "markdown",
   "id": "eb528a20",
   "metadata": {},
   "source": [
    "# Étape 3 - Chargement, pré-traitement - Dataset Gapminder"
   ]
  },
  {
   "cell_type": "code",
   "execution_count": null,
   "id": "ede58edf",
   "metadata": {},
   "outputs": [
    {
     "data": {
      "text/plain": [
       "defined class GapminderData\n",
       "rdd = /workspaces/atelier3-I1DEV2GrpB/spark/gapminder_unfiltered.csv MapPartitionsRDD[1] at textFile at <console>:36\n",
       "gapminderRDD = MapPartitionsRDD[2] at flatMap at <console>:39\n"
      ]
     },
     "metadata": {},
     "output_type": "display_data"
    },
    {
     "data": {
      "text/plain": [
       "MapPartitionsRDD[2] at flatMap at <console>:39"
      ]
     },
     "execution_count": 1,
     "metadata": {},
     "output_type": "execute_result"
    }
   ],
   "source": [
    "import org.apache.spark.sql.functions._\n",
    "\n",
    "case class GapminderData(\n",
    "  rownames: Int,\n",
    "  country: String,\n",
    "  continent: String,\n",
    "  year: Int,\n",
    "  lifeExp: Double,\n",
    "  pop: Long,\n",
    "  gdpPercap: Double\n",
    ")\n",
    "\n",
    "val rdd = spark.sparkContext.textFile(\"/workspaces/atelier3-I1DEV2GrpB/spark/gapminder_unfiltered.csv\")\n",
    "\n",
    "\n",
    "val gapminderRDD = rdd.flatMap { line =>\n",
    "  val cols = line.split(\",\")\n",
    "  try {\n",
    "    Some(GapminderData(\n",
    "      cols(0).toInt,\n",
    "      cols(1),\n",
    "      cols(2),\n",
    "      cols(3).toInt,\n",
    "      cols(4).toDouble,\n",
    "      cols(5).toLong,\n",
    "      cols(6).toDouble\n",
    "    ))\n",
    "  } catch {\n",
    "    case _: Throwable => None\n",
    "  }\n",
    "}\n",
    "//on as utiliser flatmap pour que les données vide soit automatiquement enlever"
   ]
  },
  {
   "cell_type": "markdown",
   "id": "cad553e8",
   "metadata": {},
   "source": [
    "# Séance 2\n",
    "\n",
    "## Étape 1 - RDD vers un dataframe"
   ]
  },
  {
   "cell_type": "code",
   "execution_count": 2,
   "id": "9bb571bd",
   "metadata": {},
   "outputs": [
    {
     "name": "stdout",
     "output_type": "stream",
     "text": [
      "+--------+-----------+---------+----+-------+--------+-----------+\n",
      "|rownames|    country|continent|year|lifeExp|     pop|  gdpPercap|\n",
      "+--------+-----------+---------+----+-------+--------+-----------+\n",
      "|       1|Afghanistan|     Asia|1952| 28.801| 8425333|779.4453145|\n",
      "|       2|Afghanistan|     Asia|1957| 30.332| 9240934|820.8530296|\n",
      "|       3|Afghanistan|     Asia|1962| 31.997|10267083|  853.10071|\n",
      "|       4|Afghanistan|     Asia|1967|  34.02|11537966|836.1971382|\n",
      "|       5|Afghanistan|     Asia|1972| 36.088|13079460|739.9811058|\n",
      "|       6|Afghanistan|     Asia|1977| 38.438|14880372|  786.11336|\n",
      "|       7|Afghanistan|     Asia|1982| 39.854|12881816|978.0114388|\n",
      "|       8|Afghanistan|     Asia|1987| 40.822|13867957|852.3959448|\n",
      "|       9|Afghanistan|     Asia|1992| 41.674|16317921|649.3413952|\n",
      "|      10|Afghanistan|     Asia|1997| 41.763|22227415| 635.341351|\n",
      "+--------+-----------+---------+----+-------+--------+-----------+\n",
      "only showing top 10 rows\n",
      "\n"
     ]
    },
    {
     "data": {
      "text/plain": [
       "gapminderDF = [rownames: int, country: string ... 5 more fields]\n"
      ]
     },
     "metadata": {},
     "output_type": "display_data"
    },
    {
     "data": {
      "text/plain": [
       "[rownames: int, country: string ... 5 more fields]"
      ]
     },
     "execution_count": 2,
     "metadata": {},
     "output_type": "execute_result"
    }
   ],
   "source": [
    "val gapminderDF = gapminderRDD.toDF()\n",
    "\n",
    "gapminderDF.show(10)"
   ]
  },
  {
   "cell_type": "code",
   "execution_count": 3,
   "id": "d68ac04f",
   "metadata": {},
   "outputs": [
    {
     "name": "stdout",
     "output_type": "stream",
     "text": [
      "root\n",
      " |-- rownames: integer (nullable = false)\n",
      " |-- country: string (nullable = true)\n",
      " |-- continent: string (nullable = true)\n",
      " |-- year: integer (nullable = false)\n",
      " |-- lifeExp: double (nullable = false)\n",
      " |-- pop: long (nullable = false)\n",
      " |-- gdpPercap: double (nullable = false)\n",
      "\n"
     ]
    }
   ],
   "source": [
    "gapminderDF.printSchema()"
   ]
  },
  {
   "cell_type": "code",
   "execution_count": 4,
   "id": "eaa8936e",
   "metadata": {},
   "outputs": [
    {
     "name": "stdout",
     "output_type": "stream",
     "text": [
      "+-------+------------------+-----------+---------+------------------+-----------------+--------------------+------------------+\n",
      "|summary|          rownames|    country|continent|              year|          lifeExp|                 pop|         gdpPercap|\n",
      "+-------+------------------+-----------+---------+------------------+-----------------+--------------------+------------------+\n",
      "|  count|              3225|       3225|     3225|              3225|             3225|                3225|              3225|\n",
      "|   mean|1658.6496124031007|       NULL|     NULL|1980.2651162790698|65.38284346046518|3.2255168763100777E7|11432.063840538056|\n",
      "| stddev| 960.2651444585073|       NULL|     NULL|16.934393233528564|11.70994175957781|1.0584644004220994E8|11391.873700888762|\n",
      "|    min|                 1|Afghanistan|   Africa|              1950|           23.599|               59412|       298.8462121|\n",
      "|    25%|               831|       NULL|     NULL|              1967|            58.69|             2713462|       2602.664206|\n",
      "|    50%|              1673|       NULL|     NULL|              1982|            69.69|             7561588|       8028.968025|\n",
      "|    75%|              2495|       NULL|     NULL|              1996|            73.68|            19357594|       17439.20031|\n",
      "|    max|              3313|   Zimbabwe|  Oceania|              2007|            82.67|          1318683096|       113523.1329|\n",
      "+-------+------------------+-----------+---------+------------------+-----------------+--------------------+------------------+\n",
      "\n"
     ]
    }
   ],
   "source": [
    "gapminderDF.summary().show()"
   ]
  },
  {
   "cell_type": "code",
   "execution_count": 5,
   "id": "d895a430",
   "metadata": {},
   "outputs": [
    {
     "name": "stdout",
     "output_type": "stream",
     "text": [
      "Nombre de lignes total : 3225\n"
     ]
    }
   ],
   "source": [
    "println(s\"Nombre de lignes total : ${gapminderDF.count()}\")"
   ]
  },
  {
   "cell_type": "code",
   "execution_count": null,
   "id": "9c22adff",
   "metadata": {},
   "outputs": [
    {
     "name": "stdout",
     "output_type": "stream",
     "text": [
      "+---------+\n",
      "|continent|\n",
      "+---------+\n",
      "|   Europe|\n",
      "|   Africa|\n",
      "|      FSU|\n",
      "| Americas|\n",
      "|  Oceania|\n",
      "|     Asia|\n",
      "+---------+\n",
      "\n",
      "+------------+------------+\n",
      "|min(lifeExp)|max(lifeExp)|\n",
      "+------------+------------+\n",
      "|      23.599|       82.67|\n",
      "+------------+------------+\n",
      "\n",
      "+--------------+--------------+\n",
      "|min(gdpPercap)|max(gdpPercap)|\n",
      "+--------------+--------------+\n",
      "|   298.8462121|   113523.1329|\n",
      "+--------------+--------------+\n",
      "\n",
      "+---------+---------+\n",
      "|min(year)|max(year)|\n",
      "+---------+---------+\n",
      "|     1950|     2007|\n",
      "+---------+---------+\n",
      "\n"
     ]
    }
   ],
   "source": [
    "gapminderDF.select(\"continent\").distinct().show()\n",
    "gapminderDF.select(\"year\").distinct().show()\n",
    "gapminderDF.select(min(\"lifeExp\"), max(\"lifeExp\")).show()\n",
    "gapminderDF.select(min(\"gdpPercap\"), max(\"gdpPercap\")).show()\n",
    "gapminderDF.select(min(\"year\"), max(\"year\")).show()"
   ]
  },
  {
   "cell_type": "markdown",
   "id": "75b28533",
   "metadata": {},
   "source": [
    "## Étape 2 - Extraction de dimensions"
   ]
  },
  {
   "cell_type": "code",
   "execution_count": 7,
   "id": "3709dbe1",
   "metadata": {},
   "outputs": [
    {
     "name": "stdout",
     "output_type": "stream",
     "text": [
      "+---------+------------+\n",
      "|continent|id_continent|\n",
      "+---------+------------+\n",
      "|   Europe|           0|\n",
      "|   Africa|           1|\n",
      "|      FSU|           2|\n",
      "| Americas|           3|\n",
      "|  Oceania|           4|\n",
      "|     Asia|           5|\n",
      "+---------+------------+\n",
      "\n",
      "+--------+-------+----+-------+-------+-----------+------------+\n",
      "|rownames|country|year|lifeExp|    pop|  gdpPercap|id_continent|\n",
      "+--------+-------+----+-------+-------+-----------+------------+\n",
      "|      13|Albania|1952|  55.23|1282697|1601.056136|           0|\n",
      "|      14|Albania|1957|  59.28|1476505|1942.284244|           0|\n",
      "|      15|Albania|1962|  64.82|1728137|2312.888958|           0|\n",
      "+--------+-------+----+-------+-------+-----------+------------+\n",
      "only showing top 3 rows\n",
      "\n",
      "+----+-------+\n",
      "|year|id_year|\n",
      "+----+-------+\n",
      "|1959|      0|\n",
      "|1990|      1|\n",
      "|1975|      2|\n",
      "+----+-------+\n",
      "only showing top 3 rows\n",
      "\n",
      "+--------+-------+-------+-------+-----------+------------+-------+\n",
      "|rownames|country|lifeExp|    pop|  gdpPercap|id_continent|id_year|\n",
      "+--------+-------+-------+-------+-----------+------------+-------+\n",
      "|      13|Albania|  55.23|1282697|1601.056136|           0|     11|\n",
      "|      14|Albania|  59.28|1476505|1942.284244|           0|     28|\n",
      "|      15|Albania|  64.82|1728137|2312.888958|           0|     55|\n",
      "+--------+-------+-------+-------+-----------+------------+-------+\n",
      "only showing top 3 rows\n",
      "\n",
      "+-------+----------+\n",
      "|country|id_country|\n",
      "+-------+----------+\n",
      "|   Chad|         0|\n",
      "| Guyana|         1|\n",
      "|Eritrea|         2|\n",
      "+-------+----------+\n",
      "only showing top 3 rows\n",
      "\n",
      "+--------+-------+-------+-----------+------------+-------+----------+\n",
      "|rownames|lifeExp|    pop|  gdpPercap|id_continent|id_year|id_country|\n",
      "+--------+-------+-------+-----------+------------+-------+----------+\n",
      "|      13|  55.23|1282697|1601.056136|           0|     11|        19|\n",
      "|      14|  59.28|1476505|1942.284244|           0|     28|        19|\n",
      "|      15|  64.82|1728137|2312.888958|           0|     55|        19|\n",
      "+--------+-------+-------+-----------+------------+-------+----------+\n",
      "only showing top 3 rows\n",
      "\n"
     ]
    },
    {
     "data": {
      "text/plain": [
       "dfContinent = [continent: string, id_continent: bigint]\n",
       "gapminderDF_withContinentID = [rownames: int, country: string ... 5 more fields]\n",
       "dfYear = [year: int, id_year: bigint]\n",
       "gapminderDF_withIDs = [rownames: int, country: string ... 5 more fields]\n",
       "dfCountry = [country: string, id_country: bigint]\n",
       "gapminderDF_enriched = [rownames: int, lifeExp: double ... 5 more fields]\n"
      ]
     },
     "metadata": {},
     "output_type": "display_data"
    },
    {
     "data": {
      "text/plain": [
       "[rownames: int, lifeExp: double ... 5 more fields]"
      ]
     },
     "execution_count": 7,
     "metadata": {},
     "output_type": "execute_result"
    }
   ],
   "source": [
    "import org.apache.spark.sql.functions.monotonically_increasing_id\n",
    "\n",
    "// Dimension Continent\n",
    "val dfContinent = gapminderDF\n",
    "  .select(\"continent\")\n",
    "  .distinct()\n",
    "  .withColumn(\"id_continent\", monotonically_increasing_id())\n",
    "\n",
    "dfContinent.show()\n",
    "\n",
    "val gapminderDF_withContinentID = gapminderDF\n",
    "  .join(dfContinent, Seq(\"continent\"))\n",
    "  .drop(\"continent\")\n",
    "\n",
    "gapminderDF_withContinentID.show(3)\n",
    "\n",
    "// Dimension Year\n",
    "val dfYear = gapminderDF\n",
    "  .select(\"year\")\n",
    "  .distinct()\n",
    "  .withColumn(\"id_year\", monotonically_increasing_id())\n",
    "\n",
    "dfYear.show(3)\n",
    "\n",
    "val gapminderDF_withIDs = gapminderDF_withContinentID\n",
    "  .join(dfYear, Seq(\"year\"))\n",
    "  .drop(\"year\")\n",
    "\n",
    "gapminderDF_withIDs.show(3)\n",
    "\n",
    "// Dimension Country\n",
    "val dfCountry = gapminderDF\n",
    "  .select(\"country\")\n",
    "  .distinct()\n",
    "  .withColumn(\"id_country\", monotonically_increasing_id())\n",
    "\n",
    "dfCountry.show(3)\n",
    "\n",
    "val gapminderDF_enriched = gapminderDF_withIDs\n",
    "  .join(dfCountry, Seq(\"country\"))\n",
    "  .drop(\"country\")\n",
    "\n",
    "gapminderDF_enriched.show(3)"
   ]
  },
  {
   "cell_type": "markdown",
   "id": "861e7c5a",
   "metadata": {},
   "source": [
    "## Étape 3 - Tables Hive, SQL"
   ]
  },
  {
   "cell_type": "code",
   "execution_count": 8,
   "id": "62382b96",
   "metadata": {},
   "outputs": [
    {
     "ename": "org.apache.spark.SparkRuntimeException",
     "evalue": "[LOCATION_ALREADY_EXISTS] Cannot name the managed table as `spark_catalog`.`default`.`gapminder_facts`, as its associated location 'file:/workspaces/atelier3-I1DEV2GrpB/spark/spark-warehouse/gapminder_facts' already exists. Please pick a different table name, or remove the existing location first.",
     "output_type": "error",
     "traceback": [
      "warning: one deprecation (since 2.0.0); for details, enable `:setting -deprecation' or `:replay -deprecation'",
      "org.apache.spark.SparkRuntimeException: [LOCATION_ALREADY_EXISTS] Cannot name the managed table as `spark_catalog`.`default`.`gapminder_facts`, as its associated location 'file:/workspaces/atelier3-I1DEV2GrpB/spark/spark-warehouse/gapminder_facts' already exists. Please pick a different table name, or remove the existing location first.",
      "  at org.apache.spark.sql.errors.QueryExecutionErrors$.locationAlreadyExists(QueryExecutionErrors.scala:2654)",
      "  at org.apache.spark.sql.catalyst.catalog.SessionCatalog.validateTableLocation(SessionCatalog.scala:420)",
      "  at org.apache.spark.sql.execution.command.CreateDataSourceTableAsSelectCommand.run(createDataSourceTables.scala:176)",
      "  at org.apache.spark.sql.execution.command.ExecutedCommandExec.sideEffectResult$lzycompute(commands.scala:75)",
      "  at org.apache.spark.sql.execution.command.ExecutedCommandExec.sideEffectResult(commands.scala:73)",
      "  at org.apache.spark.sql.execution.command.ExecutedCommandExec.executeCollect(commands.scala:84)",
      "  at org.apache.spark.sql.execution.QueryExecution$$anonfun$eagerlyExecuteCommands$1.$anonfun$applyOrElse$1(QueryExecution.scala:107)",
      "  at org.apache.spark.sql.execution.SQLExecution$.$anonfun$withNewExecutionId$6(SQLExecution.scala:125)",
      "  at org.apache.spark.sql.execution.SQLExecution$.withSQLConfPropagated(SQLExecution.scala:201)",
      "  at org.apache.spark.sql.execution.SQLExecution$.$anonfun$withNewExecutionId$1(SQLExecution.scala:108)",
      "  at org.apache.spark.sql.SparkSession.withActive(SparkSession.scala:900)",
      "  at org.apache.spark.sql.execution.SQLExecution$.withNewExecutionId(SQLExecution.scala:66)",
      "  at org.apache.spark.sql.execution.QueryExecution$$anonfun$eagerlyExecuteCommands$1.applyOrElse(QueryExecution.scala:107)",
      "  at org.apache.spark.sql.execution.QueryExecution$$anonfun$eagerlyExecuteCommands$1.applyOrElse(QueryExecution.scala:98)",
      "  at org.apache.spark.sql.catalyst.trees.TreeNode.$anonfun$transformDownWithPruning$1(TreeNode.scala:461)",
      "  at org.apache.spark.sql.catalyst.trees.CurrentOrigin$.withOrigin(origin.scala:76)",
      "  at org.apache.spark.sql.catalyst.trees.TreeNode.transformDownWithPruning(TreeNode.scala:461)",
      "  at org.apache.spark.sql.catalyst.plans.logical.LogicalPlan.org$apache$spark$sql$catalyst$plans$logical$AnalysisHelper$$super$transformDownWithPruning(LogicalPlan.scala:32)",
      "  at org.apache.spark.sql.catalyst.plans.logical.AnalysisHelper.transformDownWithPruning(AnalysisHelper.scala:267)",
      "  at org.apache.spark.sql.catalyst.plans.logical.AnalysisHelper.transformDownWithPruning$(AnalysisHelper.scala:263)",
      "  at org.apache.spark.sql.catalyst.plans.logical.LogicalPlan.transformDownWithPruning(LogicalPlan.scala:32)",
      "  at org.apache.spark.sql.catalyst.plans.logical.LogicalPlan.transformDownWithPruning(LogicalPlan.scala:32)",
      "  at org.apache.spark.sql.catalyst.trees.TreeNode.transformDown(TreeNode.scala:437)",
      "  at org.apache.spark.sql.execution.QueryExecution.eagerlyExecuteCommands(QueryExecution.scala:98)",
      "  at org.apache.spark.sql.execution.QueryExecution.commandExecuted$lzycompute(QueryExecution.scala:85)",
      "  at org.apache.spark.sql.execution.QueryExecution.commandExecuted(QueryExecution.scala:83)",
      "  at org.apache.spark.sql.execution.QueryExecution.assertCommandExecuted(QueryExecution.scala:142)",
      "  at org.apache.spark.sql.DataFrameWriter.runCommand(DataFrameWriter.scala:869)",
      "  at org.apache.spark.sql.DataFrameWriter.createTable(DataFrameWriter.scala:710)",
      "  at org.apache.spark.sql.DataFrameWriter.saveAsTable(DataFrameWriter.scala:688)",
      "  at org.apache.spark.sql.DataFrameWriter.saveAsTable(DataFrameWriter.scala:582)",
      "  ... 42 elided"
     ]
    }
   ],
   "source": [
    "import org.apache.spark.sql.hive.HiveContext\n",
    "\n",
    "val hc = new HiveContext(sc)\n",
    "\n",
    "// Sauvegarder les tables\n",
    "gapminderDF_enriched.write.mode(\"overwrite\").saveAsTable(\"gapminder_facts\")\n",
    "dfContinent.write.mode(\"overwrite\").saveAsTable(\"dim_continent\")\n",
    "dfYear.write.mode(\"overwrite\").saveAsTable(\"dim_year\")\n",
    "dfCountry.write.mode(\"overwrite\").saveAsTable(\"dim_country\")\n",
    "\n",
    "// Requêtes SQL d'exemple\n",
    "hc.sql(\"SELECT id_country, lifeExp FROM gapminder_facts ORDER BY lifeExp DESC LIMIT 10\").show(3)\n",
    "hc.sql(\"SELECT COUNT(*) FROM dim_continent\").show()\n",
    "hc.sql(\"SELECT COUNT(*) FROM dim_year\").show()\n",
    "hc.sql(\"SELECT COUNT(*) FROM dim_country\").show()\n",
    "\n",
    "// Requête plus complexe avec jointures\n",
    "hc.sql(\"\"\"\n",
    "  SELECT c.continent, ROUND(AVG(f.lifeExp), 1) as avg_lifeExp\n",
    "  FROM gapminder_facts f\n",
    "  JOIN dim_continent c ON f.id_continent = c.id_continent\n",
    "  GROUP BY c.continent\n",
    "  ORDER BY avg_lifeExp ASC\n",
    "\"\"\").show(10)"
   ]
  },
  {
   "cell_type": "markdown",
   "id": "600aea29",
   "metadata": {},
   "source": [
    "# Séance 3 : Agrégations et Visualisations\n",
    "\n",
    "## Agrégations pour Dr. Sarah Chen - Analyste ONU"
   ]
  },
  {
   "cell_type": "markdown",
   "id": "df010d43",
   "metadata": {},
   "source": [
    "### 1. moyenne de l'ésperance de vie par continents et par années\n"
   ]
  },
  {
   "cell_type": "code",
   "execution_count": null,
   "id": "004f1ce4",
   "metadata": {},
   "outputs": [
    {
     "name": "stdout",
     "output_type": "stream",
     "text": [
      "+---------+----+-------------------+\n",
      "|continent|year|avg_life_expectancy|\n",
      "+---------+----+-------------------+\n",
      "|   Africa|1950|              41.36|\n",
      "| Americas|1950|              59.41|\n",
      "|     Asia|1950|              53.68|\n",
      "|   Europe|1950|              65.76|\n",
      "|      FSU|1950|              59.95|\n",
      "|  Oceania|1950|              69.16|\n",
      "| Americas|1951|              68.38|\n",
      "|     Asia|1951|              58.05|\n",
      "|   Europe|1951|              66.16|\n",
      "|  Oceania|1951|              68.94|\n",
      "|   Africa|1952|              39.26|\n",
      "| Americas|1952|              53.28|\n",
      "|     Asia|1952|              46.12|\n",
      "|   Europe|1952|              64.46|\n",
      "|  Oceania|1952|              69.26|\n",
      "| Americas|1953|              68.96|\n",
      "|     Asia|1953|              56.08|\n",
      "|   Europe|1953|              67.89|\n",
      "|  Oceania|1953|              69.97|\n",
      "| Americas|1954|              69.79|\n",
      "+---------+----+-------------------+\n",
      "only showing top 20 rows\n",
      "\n"
     ]
    },
    {
     "data": {
      "text/plain": [
       "agg1 = [continent: string, year: int ... 1 more field]\n"
      ]
     },
     "metadata": {},
     "output_type": "display_data"
    },
    {
     "data": {
      "text/plain": [
       "[continent: string, year: int ... 1 more field]"
      ]
     },
     "execution_count": 58,
     "metadata": {},
     "output_type": "execute_result"
    }
   ],
   "source": [
    "val agg1 = hc.sql(\"\"\"\n",
    "  SELECT \n",
    "  dim_continent.continent,\n",
    "  dim_year.year,\n",
    "  ROUND(AVG(f.lifeExp), 2) AS avg_life_expectancy\n",
    "FROM gapminder_facts f\n",
    "JOIN dim_continent ON f.id_continent = dim_continent.id_continent\n",
    "JOIN dim_year ON f.id_year = dim_year.id_year\n",
    "GROUP BY dim_continent.continent, dim_year.year\n",
    "ORDER BY dim_year.year, dim_continent.continent;\n",
    "\"\"\")\n",
    "agg1.show()\n",
    "\n"
   ]
  },
  {
   "cell_type": "markdown",
   "id": "a4d7b2b0",
   "metadata": {},
   "source": [
    "### 2. Espérance de vie moyenne par pays\n"
   ]
  },
  {
   "cell_type": "code",
   "execution_count": null,
   "id": "c96b8ddf",
   "metadata": {},
   "outputs": [
    {
     "name": "stdout",
     "output_type": "stream",
     "text": [
      "+--------------------+-------------------+\n",
      "|             country|avg_life_expectancy|\n",
      "+--------------------+-------------------+\n",
      "|          Martinique|              78.78|\n",
      "|          Guadeloupe|              78.41|\n",
      "|             Iceland|              76.23|\n",
      "|              Cyprus|              76.13|\n",
      "|              Sweden|              76.02|\n",
      "|              Norway|              75.69|\n",
      "|         Netherlands|              75.46|\n",
      "|             Germany|              75.36|\n",
      "|         Switzerland|              75.32|\n",
      "|       French Guiana|              75.14|\n",
      "|              Canada|              74.63|\n",
      "|               Japan|              74.49|\n",
      "|           Australia|              74.23|\n",
      "|             Denmark|              74.21|\n",
      "|               Malta|              74.15|\n",
      "|              France|              73.98|\n",
      "|               Spain|              73.88|\n",
      "|Netherlands Antilles|              73.74|\n",
      "|              Israel|              73.65|\n",
      "|               Italy|              73.61|\n",
      "+--------------------+-------------------+\n",
      "only showing top 20 rows\n",
      "\n"
     ]
    },
    {
     "data": {
      "text/plain": [
       "agg2 = [country: string, avg_life_expectancy: double]\n"
      ]
     },
     "metadata": {},
     "output_type": "display_data"
    },
    {
     "data": {
      "text/plain": [
       "[country: string, avg_life_expectancy: double]"
      ]
     },
     "execution_count": 75,
     "metadata": {},
     "output_type": "execute_result"
    }
   ],
   "source": [
    "val agg2 = hc.sql(\"\"\"\n",
    "  SELECT \n",
    "    dim_country.country,\n",
    "    ROUND(AVG(f.lifeExp), 2) AS avg_life_expectancy\n",
    "  FROM gapminder_facts f\n",
    "  JOIN dim_country ON f.id_country = dim_country.id_country\n",
    "  GROUP BY dim_country.country\n",
    "  ORDER BY avg_life_expectancy DESC\n",
    "\"\"\")\n",
    "agg2.show()\n",
    "\n",
    "\n",
    "agg2.coalesce(1)\n",
    "  .write\n",
    "  .mode(\"overwrite\")\n",
    "  .format(\"com.databricks.spark.csv\")\n",
    "  .option(\"header\", \"true\")\n",
    "  .save(\"out/ESPm\")\n"
   ]
  },
  {
   "cell_type": "markdown",
   "id": "1996ef2d",
   "metadata": {},
   "source": [
    "### 3. Population totale par continent et année\n"
   ]
  },
  {
   "cell_type": "code",
   "execution_count": null,
   "id": "afdf973a",
   "metadata": {},
   "outputs": [
    {
     "name": "stdout",
     "output_type": "stream",
     "text": [
      "+---------+----+----------------+\n",
      "|continent|year|total_population|\n",
      "+---------+----+----------------+\n",
      "|   Africa|1950|         6483063|\n",
      "| Americas|1950|       203703178|\n",
      "|     Asia|1950|       119361179|\n",
      "|   Europe|1950|       332200038|\n",
      "|      FSU|1950|       138711670|\n",
      "|  Oceania|1950|        10175647|\n",
      "| Americas|1951|       169208675|\n",
      "|     Asia|1951|        93415174|\n",
      "|   Europe|1951|       208026546|\n",
      "|  Oceania|1951|        10457989|\n",
      "|   Africa|1952|       222840648|\n",
      "| Americas|1952|       345152446|\n",
      "|     Asia|1952|      1358454563|\n",
      "|   Europe|1952|       418420109|\n",
      "|  Oceania|1952|        10686006|\n",
      "| Americas|1953|       175367375|\n",
      "|     Asia|1953|       677895125|\n",
      "|   Europe|1953|       208126198|\n",
      "|  Oceania|1953|        10905315|\n",
      "| Americas|1954|       178662245|\n",
      "+---------+----+----------------+\n",
      "only showing top 20 rows\n",
      "\n"
     ]
    },
    {
     "data": {
      "text/plain": [
       "agg3 = [continent: string, year: int ... 1 more field]\n"
      ]
     },
     "metadata": {},
     "output_type": "display_data"
    },
    {
     "data": {
      "text/plain": [
       "[continent: string, year: int ... 1 more field]"
      ]
     },
     "execution_count": 77,
     "metadata": {},
     "output_type": "execute_result"
    }
   ],
   "source": [
    "val agg3 = hc.sql(\"\"\"\n",
    "  SELECT \n",
    "    dim_continent.continent,\n",
    "    dim_year.year,\n",
    "    SUM(f.pop) AS total_population\n",
    "  FROM gapminder_facts f\n",
    "  JOIN dim_continent ON f.id_continent = dim_continent.id_continent\n",
    "  JOIN dim_year ON f.id_year = dim_year.id_year\n",
    "  GROUP BY dim_continent.continent, dim_year.year\n",
    "  ORDER BY dim_year.year, dim_continent.continent\n",
    "\"\"\")\n",
    "agg3.show()\n",
    "\n",
    "agg3.coalesce(1)\n",
    "  .write\n",
    "  .mode(\"overwrite\")\n",
    "  .format(\"com.databricks.spark.csv\")\n",
    "  .option(\"header\", \"true\")\n",
    "  .save(\"out/ESPm\")\n"
   ]
  },
  {
   "cell_type": "markdown",
   "id": "4a208673",
   "metadata": {},
   "source": [
    "### 4. PIB par habitant moyen par continent\n"
   ]
  },
  {
   "cell_type": "code",
   "execution_count": null,
   "id": "5629f9b8",
   "metadata": {},
   "outputs": [
    {
     "name": "stdout",
     "output_type": "stream",
     "text": [
      "+---------+------------------+\n",
      "|continent|avg_gdp_per_capita|\n",
      "+---------+------------------+\n",
      "|   Europe|          16551.18|\n",
      "|  Oceania|          14458.72|\n",
      "| Americas|          10802.57|\n",
      "|     Asia|          10146.65|\n",
      "|      FSU|           7326.69|\n",
      "|   Africa|           2183.51|\n",
      "+---------+------------------+\n",
      "\n"
     ]
    },
    {
     "data": {
      "text/plain": [
       "agg4 = [continent: string, avg_gdp_per_capita: double]\n"
      ]
     },
     "metadata": {},
     "output_type": "display_data"
    },
    {
     "data": {
      "text/plain": [
       "[continent: string, avg_gdp_per_capita: double]"
      ]
     },
     "execution_count": 67,
     "metadata": {},
     "output_type": "execute_result"
    }
   ],
   "source": [
    "val agg4 = hc.sql(\"\"\"\n",
    "  SELECT \n",
    "    dim_continent.continent,\n",
    "    ROUND(AVG(f.gdpPercap), 2) AS avg_gdp_per_capita\n",
    "  FROM gapminder_facts f\n",
    "  JOIN dim_continent ON f.id_continent = dim_continent.id_continent\n",
    "  GROUP BY dim_continent.continent\n",
    "  ORDER BY avg_gdp_per_capita DESC\n",
    "\"\"\")\n",
    "agg4.show()\n"
   ]
  },
  {
   "cell_type": "markdown",
   "id": "b13e0122",
   "metadata": {},
   "source": [
    "### 5. PIB total (gdpPercap × population) par pays et année\n"
   ]
  },
  {
   "cell_type": "code",
   "execution_count": null,
   "id": "c2d1ac6a",
   "metadata": {},
   "outputs": [
    {
     "name": "stdout",
     "output_type": "stream",
     "text": [
      "+--------------+----+------------------+\n",
      "|       country|year|         total_gdp|\n",
      "+--------------+----+------------------+\n",
      "| United States|1950|1.9676815390953E12|\n",
      "|United Kingdom|1950|4.8956553362663E11|\n",
      "|       Germany|1950|4.1640348236898E11|\n",
      "|        Russia|1950|3.7461297627117E11|\n",
      "|        France|1950|2.7589885818009E11|\n",
      "|         Japan|1950|2.2162948338584E11|\n",
      "|         Italy|1950|2.1013857012626E11|\n",
      "|        Canada|1950|1.4825857649477E11|\n",
      "|       Ukraine|1950|1.3244293168844E11|\n",
      "|        Mexico|1950| 9.382383536794E10|\n",
      "|         Spain|1950| 9.205535914686E10|\n",
      "|   Netherlands|1950| 8.912281703673E10|\n",
      "|     Australia|1950| 8.293066093637E10|\n",
      "|       Belgium|1950| 6.903258287365E10|\n",
      "|   Switzerland|1950|  6.50945479621E10|\n",
      "|Czech Republic|1950| 5.971575687986E10|\n",
      "|        Sweden|1950|  5.86709508029E10|\n",
      "|       Hungary|1950| 4.413317417264E10|\n",
      "|       Denmark|1950| 4.132396422312E10|\n",
      "|       Austria|1950|  3.97596087304E10|\n",
      "+--------------+----+------------------+\n",
      "only showing top 20 rows\n",
      "\n"
     ]
    },
    {
     "data": {
      "text/plain": [
       "agg6 = [country: string, year: int ... 1 more field]\n"
      ]
     },
     "metadata": {},
     "output_type": "display_data"
    },
    {
     "data": {
      "text/plain": [
       "[country: string, year: int ... 1 more field]"
      ]
     },
     "execution_count": 72,
     "metadata": {},
     "output_type": "execute_result"
    }
   ],
   "source": [
    "val agg6 = hc.sql(\"\"\"\n",
    "  SELECT \n",
    "    dim_country.country,\n",
    "    dim_year.year,\n",
    "    ROUND(SUM(f.gdpPercap * f.pop), 2) AS total_gdp\n",
    "  FROM gapminder_facts f\n",
    "  JOIN dim_country ON f.id_country = dim_country.id_country\n",
    "  JOIN dim_year ON f.id_year = dim_year.id_year\n",
    "  GROUP BY dim_country.country, dim_year.year\n",
    "  ORDER BY dim_year.year, total_gdp DESC\n",
    "\"\"\")\n",
    "agg6.show()\n",
    "\n",
    "agg6.coalesce(1)\n",
    "  .write\n",
    "  .mode(\"overwrite\")\n",
    "  .format(\"com.databricks.spark.csv\")\n",
    "  .option(\"header\", \"true\")\n",
    "  .save(\"out/Pib\")\n"
   ]
  },
  {
   "cell_type": "markdown",
   "id": "cb04beec",
   "metadata": {},
   "source": [
    "### 6. Écart d'espérance de vie entre pays par continent et année\n"
   ]
  },
  {
   "cell_type": "code",
   "execution_count": null,
   "id": "53512034",
   "metadata": {},
   "outputs": [
    {
     "name": "stdout",
     "output_type": "stream",
     "text": [
      "+---------+----+-------------------+\n",
      "|continent|year|life_expectancy_gap|\n",
      "+---------+----+-------------------+\n",
      "|   Africa|1950|               2.72|\n",
      "| Americas|1950|              18.68|\n",
      "|     Asia|1950|               14.1|\n",
      "|   Europe|1950|               13.2|\n",
      "|      FSU|1950|                5.3|\n",
      "|  Oceania|1950|               0.27|\n",
      "| Americas|1951|               0.33|\n",
      "|     Asia|1951|               5.89|\n",
      "|   Europe|1951|              13.82|\n",
      "|  Oceania|1951|               0.44|\n",
      "|   Africa|1952|              22.72|\n",
      "| Americas|1952|              31.17|\n",
      "|     Asia|1952|              36.59|\n",
      "|   Europe|1952|              29.09|\n",
      "|  Oceania|1952|               0.27|\n",
      "| Americas|1953|               0.34|\n",
      "|     Asia|1953|              18.81|\n",
      "|   Europe|1953|              12.03|\n",
      "|  Oceania|1953|               0.54|\n",
      "| Americas|1954|               0.41|\n",
      "+---------+----+-------------------+\n",
      "only showing top 20 rows\n",
      "\n"
     ]
    },
    {
     "data": {
      "text/plain": [
       "agg7 = [continent: string, year: int ... 1 more field]\n"
      ]
     },
     "metadata": {},
     "output_type": "display_data"
    },
    {
     "data": {
      "text/plain": [
       "[continent: string, year: int ... 1 more field]"
      ]
     },
     "execution_count": 73,
     "metadata": {},
     "output_type": "execute_result"
    }
   ],
   "source": [
    "val agg7 = hc.sql(\"\"\"\n",
    "  SELECT \n",
    "    dim_continent.continent,\n",
    "    dim_year.year,\n",
    "    ROUND(MAX(f.lifeExp) - MIN(f.lifeExp), 2) AS life_expectancy_gap\n",
    "  FROM gapminder_facts f\n",
    "  JOIN dim_continent ON f.id_continent = dim_continent.id_continent\n",
    "  JOIN dim_year ON f.id_year = dim_year.id_year\n",
    "  GROUP BY dim_continent.continent, dim_year.year\n",
    "  ORDER BY dim_year.year, dim_continent.continent\n",
    "\"\"\")\n",
    "agg7.show()\n",
    "\n",
    "agg7.coalesce(1)\n",
    "  .write\n",
    "  .mode(\"overwrite\")\n",
    "  .format(\"com.databricks.spark.csv\")\n",
    "  .option(\"header\", \"true\")\n",
    "  .save(\"out/ecart\")\n"
   ]
  },
  {
   "cell_type": "code",
   "execution_count": null,
   "id": "1924701b",
   "metadata": {},
   "outputs": [],
   "source": []
  },
  {
   "cell_type": "code",
   "execution_count": null,
   "id": "a0639a8b",
   "metadata": {},
   "outputs": [],
   "source": []
  }
 ],
 "metadata": {
  "kernelspec": {
   "display_name": "Apache Toree - Scala",
   "language": "scala",
   "name": "apache_toree_scala"
  },
  "language_info": {
   "codemirror_mode": "text/x-scala",
   "file_extension": ".scala",
   "mimetype": "text/x-scala",
   "name": "scala",
   "pygments_lexer": "scala",
   "version": "2.12.15"
  }
 },
 "nbformat": 4,
 "nbformat_minor": 5
}
